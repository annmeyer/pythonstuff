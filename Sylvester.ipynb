{
 "cells": [
  {
   "cell_type": "markdown",
   "metadata": {},
   "source": [
    "# This is the notebook for the April 18 Python Workshop"
   ]
  },
  {
   "cell_type": "markdown",
   "metadata": {},
   "source": [
    "$\\sum_{i=0}^{N}x_i = \\lambda pi\\2"
   ]
  },
  {
   "cell_type": "code",
   "execution_count": 3,
   "metadata": {
    "collapsed": false
   },
   "outputs": [
    {
     "name": "stdout",
     "output_type": "stream",
     "text": [
      "Hello, cat\n"
     ]
    }
   ],
   "source": [
    "print(\"Hello, cat\")"
   ]
  },
  {
   "cell_type": "raw",
   "metadata": {},
   "source": [
    "cat = \"Sylvester\"\n",
    "dog = \"Jack\"\n",
    "print(dog, \"chases\", cat)"
   ]
  },
  {
   "cell_type": "code",
   "execution_count": 4,
   "metadata": {
    "collapsed": false
   },
   "outputs": [
    {
     "name": "stdout",
     "output_type": "stream",
     "text": [
      "[2, 3, 5, 6, 7]\n"
     ]
    }
   ],
   "source": [
    "primes = [2,3,5,6,7]\n",
    "print(primes)"
   ]
  },
  {
   "cell_type": "code",
   "execution_count": 5,
   "metadata": {
    "collapsed": false
   },
   "outputs": [
    {
     "name": "stdout",
     "output_type": "stream",
     "text": [
      "2\n"
     ]
    }
   ],
   "source": [
    "print(primes[0])"
   ]
  },
  {
   "cell_type": "code",
   "execution_count": 6,
   "metadata": {
    "collapsed": false
   },
   "outputs": [
    {
     "name": "stdout",
     "output_type": "stream",
     "text": [
      "6\n"
     ]
    }
   ],
   "source": [
    "print(primes[3])"
   ]
  },
  {
   "cell_type": "code",
   "execution_count": 7,
   "metadata": {
    "collapsed": false
   },
   "outputs": [
    {
     "name": "stdout",
     "output_type": "stream",
     "text": [
      "7\n"
     ]
    }
   ],
   "source": [
    "print(primes[4])"
   ]
  },
  {
   "cell_type": "code",
   "execution_count": 8,
   "metadata": {
    "collapsed": false
   },
   "outputs": [
    {
     "ename": "IndexError",
     "evalue": "list index out of range",
     "output_type": "error",
     "traceback": [
      "\u001b[0;31m---------------------------------------------------------------------------\u001b[0m",
      "\u001b[0;31mIndexError\u001b[0m                                Traceback (most recent call last)",
      "\u001b[0;32m<ipython-input-8-abcb7cb38379>\u001b[0m in \u001b[0;36m<module>\u001b[0;34m()\u001b[0m\n\u001b[0;32m----> 1\u001b[0;31m \u001b[0mprint\u001b[0m\u001b[0;34m(\u001b[0m\u001b[0mprimes\u001b[0m\u001b[0;34m[\u001b[0m\u001b[0;36m5\u001b[0m\u001b[0;34m]\u001b[0m\u001b[0;34m)\u001b[0m\u001b[0;34m\u001b[0m\u001b[0m\n\u001b[0m",
      "\u001b[0;31mIndexError\u001b[0m: list index out of range"
     ]
    }
   ],
   "source": [
    "print(primes[5])"
   ]
  },
  {
   "cell_type": "code",
   "execution_count": 9,
   "metadata": {
    "collapsed": false
   },
   "outputs": [
    {
     "name": "stdout",
     "output_type": "stream",
     "text": [
      "7\n"
     ]
    }
   ],
   "source": [
    "print(primes[-1])"
   ]
  },
  {
   "cell_type": "code",
   "execution_count": 10,
   "metadata": {
    "collapsed": false
   },
   "outputs": [
    {
     "name": "stdout",
     "output_type": "stream",
     "text": [
      "6\n"
     ]
    }
   ],
   "source": [
    "print(primes[-2])"
   ]
  },
  {
   "cell_type": "code",
   "execution_count": 11,
   "metadata": {
    "collapsed": false
   },
   "outputs": [
    {
     "name": "stdout",
     "output_type": "stream",
     "text": [
      "2 4\n",
      "3 6\n",
      "5 10\n",
      "6 12\n",
      "7 14\n"
     ]
    }
   ],
   "source": [
    "for i in primes:\n",
    "    print(i, 2*i)"
   ]
  },
  {
   "cell_type": "code",
   "execution_count": 12,
   "metadata": {
    "collapsed": false
   },
   "outputs": [
    {
     "name": "stdout",
     "output_type": "stream",
     "text": [
      "meh\n",
      "meh\n",
      "that's a big number, Bob\n",
      "that's a big number, Bob\n",
      "that's a big number, Bob\n"
     ]
    }
   ],
   "source": [
    "for i in primes:\n",
    "    if i > 4:\n",
    "        print(\"that's a big number, Bob\")\n",
    "    else:\n",
    "        print(\"meh\")"
   ]
  },
  {
   "cell_type": "code",
   "execution_count": 13,
   "metadata": {
    "collapsed": false
   },
   "outputs": [
    {
     "name": "stdout",
     "output_type": "stream",
     "text": [
      "medium\n",
      "medium\n",
      "big\n",
      "big\n",
      "big\n"
     ]
    }
   ],
   "source": [
    "for i in primes:\n",
    "    if i > 4:\n",
    "        print(\"big\")\n",
    "    elif i < 7:\n",
    "        print(\"medium\")\n",
    "    else:\n",
    "        print(\"large\")"
   ]
  },
  {
   "cell_type": "code",
   "execution_count": 14,
   "metadata": {
    "collapsed": true
   },
   "outputs": [],
   "source": [
    "stuff = [2*i for i in primes]"
   ]
  },
  {
   "cell_type": "code",
   "execution_count": 15,
   "metadata": {
    "collapsed": false
   },
   "outputs": [
    {
     "name": "stdout",
     "output_type": "stream",
     "text": [
      "[4, 6, 10, 12, 14]\n"
     ]
    }
   ],
   "source": [
    "print(stuff)"
   ]
  },
  {
   "cell_type": "markdown",
   "metadata": {},
   "source": [
    "Exercise 1: add up all the values in 'primes' and print the result.\n",
    "For bouns marks, find sum of values in primes that are larger than 5."
   ]
  },
  {
   "cell_type": "code",
   "execution_count": 17,
   "metadata": {
    "collapsed": false
   },
   "outputs": [
    {
     "name": "stdout",
     "output_type": "stream",
     "text": [
      "23\n"
     ]
    }
   ],
   "source": [
    "n = 0\n",
    "for i in primes:\n",
    "    n+=i\n",
    "print(n)"
   ]
  },
  {
   "cell_type": "code",
   "execution_count": 18,
   "metadata": {
    "collapsed": false
   },
   "outputs": [
    {
     "name": "stdout",
     "output_type": "stream",
     "text": [
      "13\n"
     ]
    }
   ],
   "source": [
    "n_bonus = 0\n",
    "for i in primes:\n",
    "    if i > 5:\n",
    "        n_bonus+=i\n",
    "print(n_bonus)"
   ]
  },
  {
   "cell_type": "code",
   "execution_count": 21,
   "metadata": {
    "collapsed": true
   },
   "outputs": [],
   "source": [
    "def bianca(left, right):\n",
    "    return 2*left + right"
   ]
  },
  {
   "cell_type": "code",
   "execution_count": 22,
   "metadata": {
    "collapsed": false
   },
   "outputs": [
    {
     "name": "stdout",
     "output_type": "stream",
     "text": [
      "7\n"
     ]
    }
   ],
   "source": [
    "print(bianca(2,3))"
   ]
  },
  {
   "cell_type": "code",
   "execution_count": 23,
   "metadata": {
    "collapsed": false
   },
   "outputs": [
    {
     "name": "stdout",
     "output_type": "stream",
     "text": [
      "HiHithere\n"
     ]
    }
   ],
   "source": [
    "print(bianca(\"Hi\",\"there\"))"
   ]
  },
  {
   "cell_type": "code",
   "execution_count": 24,
   "metadata": {
    "collapsed": false
   },
   "outputs": [
    {
     "name": "stdout",
     "output_type": "stream",
     "text": [
      "with 2 parameters 10\n",
      "with 1 parameter 7\n"
     ]
    }
   ],
   "source": [
    "def pie(left, right=1):\n",
    "    return 2 * left + right\n",
    "\n",
    "print(\"with 2 parameters\", pie(3,4))\n",
    "print(\"with 1 parameter\", pie(3))"
   ]
  },
  {
   "cell_type": "code",
   "execution_count": 25,
   "metadata": {
    "collapsed": false
   },
   "outputs": [
    {
     "name": "stdout",
     "output_type": "stream",
     "text": [
      "Help on built-in function max in module builtins:\n",
      "\n",
      "max(...)\n",
      "    max(iterable, *[, default=obj, key=func]) -> value\n",
      "    max(arg1, arg2, *args, *[, key=func]) -> value\n",
      "    \n",
      "    With a single iterable argument, return its biggest item. The\n",
      "    default keyword-only argument specifies an object to return if\n",
      "    the provided iterable is empty.\n",
      "    With two or more arguments, return the largest argument.\n",
      "\n"
     ]
    }
   ],
   "source": [
    "help(max)"
   ]
  },
  {
   "cell_type": "code",
   "execution_count": 26,
   "metadata": {
    "collapsed": true
   },
   "outputs": [],
   "source": [
    "def alex(param):\n",
    "    \"Alex always returns zero.\"\n",
    "    return 0"
   ]
  },
  {
   "cell_type": "code",
   "execution_count": 27,
   "metadata": {
    "collapsed": false
   },
   "outputs": [
    {
     "name": "stdout",
     "output_type": "stream",
     "text": [
      "Help on function alex in module __main__:\n",
      "\n",
      "alex(param)\n",
      "    Alex always returns zero.\n",
      "\n"
     ]
    }
   ],
   "source": [
    "help(alex)"
   ]
  },
  {
   "cell_type": "markdown",
   "metadata": {},
   "source": [
    "Write *and document* a function that takes a list of values as input, and returns the list with values truncated to lie between lower and upper bound.  By default, the lower bound is 0, and the upper bound is 10.\n",
    "\n",
    "Example: truncate([3,5,-1,15]) creates [3,5,0,10]\n",
    "\n",
    "Example: truncate([3,5,-1,15],5) creates [5,5,5,10]"
   ]
  },
  {
   "cell_type": "code",
   "execution_count": 28,
   "metadata": {
    "collapsed": false
   },
   "outputs": [
    {
     "name": "stdout",
     "output_type": "stream",
     "text": [
      "[2, 4, 6]\n"
     ]
    }
   ],
   "source": [
    "numbers = [1,2,3]\n",
    "output = []\n",
    "for n in numbers:\n",
    "    output.append(2*n)\n",
    "print(output)"
   ]
  },
  {
   "cell_type": "code",
   "execution_count": 35,
   "metadata": {
    "collapsed": false
   },
   "outputs": [
    {
     "data": {
      "text/plain": [
       "[3, 5, 0, 10]"
      ]
     },
     "execution_count": 35,
     "metadata": {},
     "output_type": "execute_result"
    }
   ],
   "source": [
    "def my_truncate_function(my_input, lower=0, upper=10):\n",
    "    \"This function takes a list of values as input, and returns the list with values truncated to lie between lower and upper bound.  By default, the lower bound is 0, and the upper bound is 10.\"\n",
    "    your_output = []\n",
    "    for i in my_input:\n",
    "        if i > lower and i < upper:\n",
    "            your_output.append(i)\n",
    "        elif i <= lower:\n",
    "            your_output.append(lower)\n",
    "        elif i >= upper:\n",
    "            your_output.append(upper)\n",
    "    return your_output\n",
    "my_truncate_function([3,5,-1,15])"
   ]
  },
  {
   "cell_type": "code",
   "execution_count": 36,
   "metadata": {
    "collapsed": false
   },
   "outputs": [
    {
     "data": {
      "text/plain": [
       "[5, 5, 5, 10]"
      ]
     },
     "execution_count": 36,
     "metadata": {},
     "output_type": "execute_result"
    }
   ],
   "source": [
    "my_truncate_function([3,5,-1,15],5)"
   ]
  },
  {
   "cell_type": "code",
   "execution_count": 37,
   "metadata": {
    "collapsed": false
   },
   "outputs": [
    {
     "data": {
      "text/plain": [
       "[5, 5, 5, 7]"
      ]
     },
     "execution_count": 37,
     "metadata": {},
     "output_type": "execute_result"
    }
   ],
   "source": [
    "my_truncate_function([3,5,-1,15],5,7)"
   ]
  },
  {
   "cell_type": "code",
   "execution_count": 45,
   "metadata": {
    "collapsed": false
   },
   "outputs": [],
   "source": [
    "def gregs_truncate(values, lower=0, upper=10):\n",
    "    result = []\n",
    "    for v in values:\n",
    "        if v < lower:\n",
    "            v = lower\n",
    "        elif v > upper:\n",
    "            v = upper\n",
    "        result.append(v)\n",
    "    return result\n",
    "\n",
    "assert gregs_truncate([3]) == [3]\n",
    "assert gregs_truncate([-1]) == [0]\n",
    "assert gregs_truncate([20]) == [10]\n",
    "assert gregs_truncate([3, 5, -1, 15]) == [3, 5, 0, 10], 'Both defaults'\n",
    "assert gregs_truncate([3, 5, -1, 15], 5) == [5, 5, 5, 10], 'Set lower'\n",
    "assert gregs_truncate([3, 5, -1], 2, 4) == [3, 4, 2], 'Set lower and upper'\n",
    "#if everything goes as expected, nothing should be returned"
   ]
  },
  {
   "cell_type": "code",
   "execution_count": 46,
   "metadata": {
    "collapsed": false
   },
   "outputs": [
    {
     "name": "stdout",
     "output_type": "stream",
     "text": [
      "{'grace': 23, 'nelle': 5, 'alan': 19}\n"
     ]
    }
   ],
   "source": [
    "table = {\"grace\": 23, \"alan\":19, \"nelle\":5}\n",
    "print(table)"
   ]
  },
  {
   "cell_type": "code",
   "execution_count": 47,
   "metadata": {
    "collapsed": false
   },
   "outputs": [
    {
     "name": "stdout",
     "output_type": "stream",
     "text": [
      "23\n"
     ]
    }
   ],
   "source": [
    "print(table[\"grace\"])"
   ]
  },
  {
   "cell_type": "code",
   "execution_count": 49,
   "metadata": {
    "collapsed": false
   },
   "outputs": [
    {
     "name": "stdout",
     "output_type": "stream",
     "text": [
      "grace 23\n",
      "nelle 5\n",
      "alan 19\n"
     ]
    }
   ],
   "source": [
    "for key in table:\n",
    "    print(key, table[key])"
   ]
  },
  {
   "cell_type": "code",
   "execution_count": 50,
   "metadata": {
    "collapsed": true
   },
   "outputs": [],
   "source": [
    "table[\"jonathan\"] = 99"
   ]
  },
  {
   "cell_type": "code",
   "execution_count": 53,
   "metadata": {
    "collapsed": false
   },
   "outputs": [
    {
     "ename": "SyntaxError",
     "evalue": "invalid syntax (<ipython-input-53-b117fc2371ec>, line 3)",
     "output_type": "error",
     "traceback": [
      "\u001b[0;36m  File \u001b[0;32m\"<ipython-input-53-b117fc2371ec>\"\u001b[0;36m, line \u001b[0;32m3\u001b[0m\n\u001b[0;31m    else\u001b[0m\n\u001b[0m        ^\u001b[0m\n\u001b[0;31mSyntaxError\u001b[0m\u001b[0;31m:\u001b[0m invalid syntax\n"
     ]
    }
   ],
   "source": [
    "if \"greg\" in table:\n",
    "    print(\"whoops\")\n",
    "else\n",
    "    print(\"not in table\")"
   ]
  },
  {
   "cell_type": "code",
   "execution_count": 55,
   "metadata": {
    "collapsed": false
   },
   "outputs": [
    {
     "name": "stdout",
     "output_type": "stream",
     "text": [
      "22\n"
     ]
    }
   ],
   "source": [
    "data = {\n",
    "    \"Nodir\" : [2, 5, 7],\n",
    "    \"Frank\" : [19, 20, 21],\n",
    "    \"Linda\" : [-1, -2, -3]\n",
    "}\n",
    "\n",
    "print(data[\"Nodir\"][0] + data[\"Frank\"][1])"
   ]
  },
  {
   "cell_type": "code",
   "execution_count": 56,
   "metadata": {
    "collapsed": false
   },
   "outputs": [
    {
     "name": "stdout",
     "output_type": "stream",
     "text": [
      "1.2246467991473532e-16\n"
     ]
    }
   ],
   "source": [
    "import math\n",
    "\n",
    "print(math.sin(math.pi))"
   ]
  },
  {
   "cell_type": "code",
   "execution_count": 58,
   "metadata": {
    "collapsed": false
   },
   "outputs": [
    {
     "name": "stderr",
     "output_type": "stream",
     "text": [
      "/Users/ameyer/anaconda/lib/python3.5/site-packages/matplotlib/font_manager.py:273: UserWarning: Matplotlib is building the font cache using fc-list. This may take a moment.\n",
      "  warnings.warn('Matplotlib is building the font cache using fc-list. This may take a moment.')\n",
      "/Users/ameyer/anaconda/lib/python3.5/site-packages/matplotlib/font_manager.py:273: UserWarning: Matplotlib is building the font cache using fc-list. This may take a moment.\n",
      "  warnings.warn('Matplotlib is building the font cache using fc-list. This may take a moment.')\n"
     ]
    }
   ],
   "source": [
    "import pandas as pd\n",
    "import numpy as np\n",
    "import matplotlib.pylab as plt\n",
    "%matplotlib inline\n",
    "\n",
    "remote_gene_count_file = \"https://ndownloader.figshare.com/files/3560183\"\n",
    "remote_metadata_file = \"https://ndownloader.figshare.com/files/3560180\""
   ]
  },
  {
   "cell_type": "code",
   "execution_count": 59,
   "metadata": {
    "collapsed": false
   },
   "outputs": [
    {
     "ename": "ImportError",
     "evalue": "No module named 'vcf'",
     "output_type": "error",
     "traceback": [
      "\u001b[0;31m---------------------------------------------------------------------------\u001b[0m",
      "\u001b[0;31mImportError\u001b[0m                               Traceback (most recent call last)",
      "\u001b[0;32m<ipython-input-59-eebbd0b7d1bc>\u001b[0m in \u001b[0;36m<module>\u001b[0;34m()\u001b[0m\n\u001b[1;32m      4\u001b[0m \u001b[0mlocalfilename\u001b[0m\u001b[0;34m=\u001b[0m\u001b[0;34m\"NIST_chr20.vcf.gz\"\u001b[0m\u001b[0;34m\u001b[0m\u001b[0m\n\u001b[1;32m      5\u001b[0m \u001b[0;34m\u001b[0m\u001b[0m\n\u001b[0;32m----> 6\u001b[0;31m \u001b[0;32mimport\u001b[0m \u001b[0mvcf\u001b[0m\u001b[0;34m\u001b[0m\u001b[0m\n\u001b[0m\u001b[1;32m      7\u001b[0m \u001b[0;32mimport\u001b[0m \u001b[0murllib\u001b[0m\u001b[0;34m.\u001b[0m\u001b[0mrequest\u001b[0m\u001b[0;34m\u001b[0m\u001b[0m\n\u001b[1;32m      8\u001b[0m \u001b[0;32mimport\u001b[0m \u001b[0mmatplotlib\u001b[0m\u001b[0;34m.\u001b[0m\u001b[0mpylab\u001b[0m \u001b[0;32mas\u001b[0m \u001b[0mplt\u001b[0m\u001b[0;34m\u001b[0m\u001b[0m\n",
      "\u001b[0;31mImportError\u001b[0m: No module named 'vcf'"
     ]
    }
   ],
   "source": [
    "remote_readme_url = \"ftp://ftp-trace.ncbi.nih.gov/giab/ftp/release/NA12878_HG001/latest/README.NIST.v2.19.txt\"\n",
    "remote_file_url = \"ftp://ftp-trace.ncbi.nih.gov/giab/ftp/release/NA12878_HG001/latest/NISTIntegratedCalls_14datasets_131103_allcall_UGHapMerge_HetHomVarPASS_VQSRv2.19_2mindatasets_5minYesNoRatio_all_nouncert_excludesimplerep_excludesegdups_excludedecoy_excludeRepSeqSTRs_noCNVs.vcf.gz\"\n",
    "chr20_filename=\"https://github.com/ljdursi/mon_py_wrkshp/blob/master/NISTIntegratedCalls_chr20.vcf.gz?raw=true\"\n",
    "localfilename=\"NIST_chr20.vcf.gz\"\n",
    "\n",
    "import vcf\n",
    "import urllib.request\n",
    "import matplotlib.pylab as plt\n",
    "%matplotlib inline"
   ]
  },
  {
   "cell_type": "code",
   "execution_count": 60,
   "metadata": {
    "collapsed": false
   },
   "outputs": [
    {
     "name": "stdout",
     "output_type": "stream",
     "text": [
      "Help on package pandas:\n",
      "\n",
      "NAME\n",
      "    pandas\n",
      "\n",
      "DESCRIPTION\n",
      "    pandas - a powerful data analysis and manipulation library for Python\n",
      "    =====================================================================\n",
      "    \n",
      "    See http://pandas.pydata.org/ for full documentation. Otherwise, see the\n",
      "    docstrings of the various objects in the pandas namespace:\n",
      "    \n",
      "    Series\n",
      "    DataFrame\n",
      "    Panel\n",
      "    Index\n",
      "    DatetimeIndex\n",
      "    HDFStore\n",
      "    bdate_range\n",
      "    date_range\n",
      "    read_csv\n",
      "    read_fwf\n",
      "    read_table\n",
      "    ols\n",
      "\n",
      "PACKAGE CONTENTS\n",
      "    _period\n",
      "    _sparse\n",
      "    _testing\n",
      "    _version\n",
      "    algos\n",
      "    compat (package)\n",
      "    computation (package)\n",
      "    core (package)\n",
      "    hashtable\n",
      "    index\n",
      "    info\n",
      "    io (package)\n",
      "    json\n",
      "    lib\n",
      "    msgpack (package)\n",
      "    parser\n",
      "    rpy (package)\n",
      "    sandbox (package)\n",
      "    sparse (package)\n",
      "    stats (package)\n",
      "    tests (package)\n",
      "    tools (package)\n",
      "    tseries (package)\n",
      "    tslib\n",
      "    util (package)\n",
      "\n",
      "SUBMODULES\n",
      "    datetools\n",
      "    offsets\n",
      "\n",
      "DATA\n",
      "    IndexSlice = <pandas.core.indexing._IndexSlice object>\n",
      "    NaT = NaT\n",
      "    __docformat__ = 'restructuredtext'\n",
      "    __warningregistry__ = {'version': 864, (r'bad escape \\s', <class 'Depr...\n",
      "    describe_option = <pandas.core.config.CallableDynamicDoc object>\n",
      "    get_option = <pandas.core.config.CallableDynamicDoc object>\n",
      "    options = <pandas.core.config.DictWrapper object>\n",
      "    plot_params = {'xaxis.compat': False}\n",
      "    reset_option = <pandas.core.config.CallableDynamicDoc object>\n",
      "    set_option = <pandas.core.config.CallableDynamicDoc object>\n",
      "\n",
      "VERSION\n",
      "    0.17.1\n",
      "\n",
      "FILE\n",
      "    /Users/ameyer/anaconda/lib/python3.5/site-packages/pandas/__init__.py\n",
      "\n",
      "\n"
     ]
    }
   ],
   "source": [
    "help(pd)"
   ]
  },
  {
   "cell_type": "code",
   "execution_count": 61,
   "metadata": {
    "collapsed": true
   },
   "outputs": [],
   "source": [
    "gene_data = pd.read_csv(remote_gene_count_file)\n",
    "metadata = pd.read_csv(remote_metadata_file)"
   ]
  },
  {
   "cell_type": "code",
   "execution_count": 62,
   "metadata": {
    "collapsed": false
   },
   "outputs": [
    {
     "name": "stdout",
     "output_type": "stream",
     "text": [
      "               ensgene  length  SRR493366  SRR493367  SRR493368  SRR493369  \\\n",
      "0      ENSG00000186092     918          0          0          0          0   \n",
      "1      ENSG00000279928     718          0          0          0          0   \n",
      "2      ENSG00000279457    1982         23         28         29         29   \n",
      "3      ENSG00000278566     939          0          0          0          0   \n",
      "4      ENSG00000273547     939          0          0          0          0   \n",
      "5      ENSG00000187634    3214        124        123        205        207   \n",
      "6      ENSG00000188976    5539       1637       1831       2383       1226   \n",
      "7      ENSG00000187961    3395        120        153        180        236   \n",
      "8      ENSG00000187583    2833         24         48         65         44   \n",
      "9      ENSG00000187642    3424          4          9         16         14   \n",
      "10     ENSG00000188290    1118         31         34         57        172   \n",
      "11     ENSG00000187608     942        244        289        386        373   \n",
      "12     ENSG00000188157   10758       6547       6758       9367       9853   \n",
      "13     ENSG00000237330    1902          0          0          0          0   \n",
      "14     ENSG00000131591    6322        115        135        169        143   \n",
      "15     ENSG00000162571    3943          0          0          0          0   \n",
      "16     ENSG00000186891    1370          2          0          0          0   \n",
      "17     ENSG00000186827    1721          0          0          1          1   \n",
      "18     ENSG00000078808    4709       3355       3427       4634       4963   \n",
      "19     ENSG00000176022    2777        555        744        925        950   \n",
      "20     ENSG00000184163    1794          4          5          2          6   \n",
      "21     ENSG00000160087    4712        805        943       1261       1300   \n",
      "22     ENSG00000162572    4025         18         17         32         36   \n",
      "23     ENSG00000131584    8809        654        794       1010       1198   \n",
      "24     ENSG00000169972    2489        186        209        233        225   \n",
      "25     ENSG00000127054    8220        833        852       1144        867   \n",
      "26     ENSG00000224051    2556        244        292        393        264   \n",
      "27     ENSG00000169962    3433          4          4          9          3   \n",
      "28     ENSG00000107404    3814        829        926       1255        891   \n",
      "29     ENSG00000162576    3622       3604       3957       5289       6006   \n",
      "...                ...     ...        ...        ...        ...        ...   \n",
      "19778  ENSG00000198727    1141      22971      26397      35386      36239   \n",
      "19779  ENSG00000274175    1806          0          0          0          0   \n",
      "19780  ENSG00000275869    1426          0          0          0          0   \n",
      "19781  ENSG00000273554    3660          0          1          1          2   \n",
      "19782  ENSG00000278782     285          0          0          0          0   \n",
      "19783  ENSG00000277761     473          0          0          0          0   \n",
      "19784  ENSG00000277836     288          0          0          0          0   \n",
      "19785  ENSG00000277666     600          0          0          0          0   \n",
      "19786  ENSG00000276760    2627          0          0          0          0   \n",
      "19787  ENSG00000275249    1084          0          0          0          0   \n",
      "19788  ENSG00000274792    1343          0          0          0          0   \n",
      "19789  ENSG00000278704    2237          1          0          0          0   \n",
      "19790  ENSG00000277400    2179          0          0          1          0   \n",
      "19791  ENSG00000274847    1599          0          0          0          0   \n",
      "19792  ENSG00000273496    1468          0          0          0          0   \n",
      "19793  ENSG00000276256    2195         75         69        109         80   \n",
      "19794  ENSG00000278198    1468          0          3          0          1   \n",
      "19795  ENSG00000273748     372         23         28         26         45   \n",
      "19796  ENSG00000276017    2404          0          0          0          0   \n",
      "19797  ENSG00000278817    1213          3          1          4          1   \n",
      "19798  ENSG00000277196    2405          0          0          0          0   \n",
      "19799  ENSG00000277630    2637          0          0          0          0   \n",
      "19800  ENSG00000278384    3027          0          1          2          1   \n",
      "19801  ENSG00000278633    2404          0          0          0          0   \n",
      "19802  ENSG00000276345     740         72         73         91         55   \n",
      "19803  ENSG00000277856     294          0          0          0          0   \n",
      "19804  ENSG00000275063     351          0          0          0          0   \n",
      "19805  ENSG00000271254    4520        188        211        222        148   \n",
      "19806  ENSG00000277475     831          0          0          0          0   \n",
      "19807  ENSG00000268674     510          0          0          0          0   \n",
      "\n",
      "       SRR493370  SRR493371  \n",
      "0              0          0  \n",
      "1              0          0  \n",
      "2             28         46  \n",
      "3              0          0  \n",
      "4              0          0  \n",
      "5            212        258  \n",
      "6           1326       1504  \n",
      "7            255        357  \n",
      "8             48         64  \n",
      "9             16         16  \n",
      "10           172        223  \n",
      "11           422        430  \n",
      "12         10483      13037  \n",
      "13             1          0  \n",
      "14           174        225  \n",
      "15             0          0  \n",
      "16             2          0  \n",
      "17             2          1  \n",
      "18          5313       6517  \n",
      "19          1059       1339  \n",
      "20             3          7  \n",
      "21          1439       1811  \n",
      "22            45         50  \n",
      "23          1279       1657  \n",
      "24           244        282  \n",
      "25           844       1034  \n",
      "26           272        360  \n",
      "27             6         11  \n",
      "28           983       1179  \n",
      "29          6638       7988  \n",
      "...          ...        ...  \n",
      "19778      38731      48355  \n",
      "19779          0          0  \n",
      "19780          0          0  \n",
      "19781          2          0  \n",
      "19782          0          0  \n",
      "19783          0          0  \n",
      "19784          0          0  \n",
      "19785          0          0  \n",
      "19786          0          0  \n",
      "19787          0          0  \n",
      "19788          0          0  \n",
      "19789          0          0  \n",
      "19790          0          0  \n",
      "19791          0          0  \n",
      "19792          0          0  \n",
      "19793        116        118  \n",
      "19794          1          0  \n",
      "19795         40         54  \n",
      "19796          0          0  \n",
      "19797          2          4  \n",
      "19798          0          0  \n",
      "19799          0          0  \n",
      "19800          2          1  \n",
      "19801          0          0  \n",
      "19802         67         87  \n",
      "19803          0          0  \n",
      "19804          0          0  \n",
      "19805        150        161  \n",
      "19806          0          0  \n",
      "19807          0          0  \n",
      "\n",
      "[19808 rows x 8 columns]\n"
     ]
    }
   ],
   "source": [
    "print(gene_data)"
   ]
  },
  {
   "cell_type": "code",
   "execution_count": 64,
   "metadata": {
    "collapsed": false
   },
   "outputs": [
    {
     "data": {
      "text/html": [
       "<div>\n",
       "<table border=\"1\" class=\"dataframe\">\n",
       "  <thead>\n",
       "    <tr style=\"text-align: right;\">\n",
       "      <th></th>\n",
       "      <th>ensgene</th>\n",
       "      <th>length</th>\n",
       "      <th>SRR493366</th>\n",
       "      <th>SRR493367</th>\n",
       "      <th>SRR493368</th>\n",
       "      <th>SRR493369</th>\n",
       "      <th>SRR493370</th>\n",
       "      <th>SRR493371</th>\n",
       "    </tr>\n",
       "  </thead>\n",
       "  <tbody>\n",
       "    <tr>\n",
       "      <th>0</th>\n",
       "      <td>ENSG00000186092</td>\n",
       "      <td>918</td>\n",
       "      <td>0</td>\n",
       "      <td>0</td>\n",
       "      <td>0</td>\n",
       "      <td>0</td>\n",
       "      <td>0</td>\n",
       "      <td>0</td>\n",
       "    </tr>\n",
       "    <tr>\n",
       "      <th>1</th>\n",
       "      <td>ENSG00000279928</td>\n",
       "      <td>718</td>\n",
       "      <td>0</td>\n",
       "      <td>0</td>\n",
       "      <td>0</td>\n",
       "      <td>0</td>\n",
       "      <td>0</td>\n",
       "      <td>0</td>\n",
       "    </tr>\n",
       "    <tr>\n",
       "      <th>2</th>\n",
       "      <td>ENSG00000279457</td>\n",
       "      <td>1982</td>\n",
       "      <td>23</td>\n",
       "      <td>28</td>\n",
       "      <td>29</td>\n",
       "      <td>29</td>\n",
       "      <td>28</td>\n",
       "      <td>46</td>\n",
       "    </tr>\n",
       "    <tr>\n",
       "      <th>3</th>\n",
       "      <td>ENSG00000278566</td>\n",
       "      <td>939</td>\n",
       "      <td>0</td>\n",
       "      <td>0</td>\n",
       "      <td>0</td>\n",
       "      <td>0</td>\n",
       "      <td>0</td>\n",
       "      <td>0</td>\n",
       "    </tr>\n",
       "    <tr>\n",
       "      <th>4</th>\n",
       "      <td>ENSG00000273547</td>\n",
       "      <td>939</td>\n",
       "      <td>0</td>\n",
       "      <td>0</td>\n",
       "      <td>0</td>\n",
       "      <td>0</td>\n",
       "      <td>0</td>\n",
       "      <td>0</td>\n",
       "    </tr>\n",
       "  </tbody>\n",
       "</table>\n",
       "</div>"
      ],
      "text/plain": [
       "           ensgene  length  SRR493366  SRR493367  SRR493368  SRR493369  \\\n",
       "0  ENSG00000186092     918          0          0          0          0   \n",
       "1  ENSG00000279928     718          0          0          0          0   \n",
       "2  ENSG00000279457    1982         23         28         29         29   \n",
       "3  ENSG00000278566     939          0          0          0          0   \n",
       "4  ENSG00000273547     939          0          0          0          0   \n",
       "\n",
       "   SRR493370  SRR493371  \n",
       "0          0          0  \n",
       "1          0          0  \n",
       "2         28         46  \n",
       "3          0          0  \n",
       "4          0          0  "
      ]
     },
     "execution_count": 64,
     "metadata": {},
     "output_type": "execute_result"
    }
   ],
   "source": [
    "gene_data.head()"
   ]
  },
  {
   "cell_type": "code",
   "execution_count": 65,
   "metadata": {
    "collapsed": false
   },
   "outputs": [
    {
     "data": {
      "text/plain": [
       "pandas.core.frame.DataFrame"
      ]
     },
     "execution_count": 65,
     "metadata": {},
     "output_type": "execute_result"
    }
   ],
   "source": [
    "type(gene_data)"
   ]
  },
  {
   "cell_type": "code",
   "execution_count": 66,
   "metadata": {
    "collapsed": false
   },
   "outputs": [
    {
     "data": {
      "text/html": [
       "<div>\n",
       "<table border=\"1\" class=\"dataframe\">\n",
       "  <thead>\n",
       "    <tr style=\"text-align: right;\">\n",
       "      <th></th>\n",
       "      <th>id</th>\n",
       "      <th>condition</th>\n",
       "    </tr>\n",
       "  </thead>\n",
       "  <tbody>\n",
       "    <tr>\n",
       "      <th>0</th>\n",
       "      <td>SRR493366</td>\n",
       "      <td>control_sirna</td>\n",
       "    </tr>\n",
       "    <tr>\n",
       "      <th>1</th>\n",
       "      <td>SRR493367</td>\n",
       "      <td>control_sirna</td>\n",
       "    </tr>\n",
       "    <tr>\n",
       "      <th>2</th>\n",
       "      <td>SRR493368</td>\n",
       "      <td>control_sirna</td>\n",
       "    </tr>\n",
       "    <tr>\n",
       "      <th>3</th>\n",
       "      <td>SRR493369</td>\n",
       "      <td>hoxa1_kd</td>\n",
       "    </tr>\n",
       "    <tr>\n",
       "      <th>4</th>\n",
       "      <td>SRR493370</td>\n",
       "      <td>hoxa1_kd</td>\n",
       "    </tr>\n",
       "    <tr>\n",
       "      <th>5</th>\n",
       "      <td>SRR493371</td>\n",
       "      <td>hoxa1_kd</td>\n",
       "    </tr>\n",
       "  </tbody>\n",
       "</table>\n",
       "</div>"
      ],
      "text/plain": [
       "          id      condition\n",
       "0  SRR493366  control_sirna\n",
       "1  SRR493367  control_sirna\n",
       "2  SRR493368  control_sirna\n",
       "3  SRR493369       hoxa1_kd\n",
       "4  SRR493370       hoxa1_kd\n",
       "5  SRR493371       hoxa1_kd"
      ]
     },
     "execution_count": 66,
     "metadata": {},
     "output_type": "execute_result"
    }
   ],
   "source": [
    "metadata"
   ]
  },
  {
   "cell_type": "code",
   "execution_count": 67,
   "metadata": {
    "collapsed": false
   },
   "outputs": [
    {
     "data": {
      "text/html": [
       "<div>\n",
       "<table border=\"1\" class=\"dataframe\">\n",
       "  <thead>\n",
       "    <tr style=\"text-align: right;\">\n",
       "      <th></th>\n",
       "      <th>length</th>\n",
       "      <th>SRR493366</th>\n",
       "      <th>SRR493367</th>\n",
       "      <th>SRR493368</th>\n",
       "      <th>SRR493369</th>\n",
       "      <th>SRR493370</th>\n",
       "      <th>SRR493371</th>\n",
       "    </tr>\n",
       "  </thead>\n",
       "  <tbody>\n",
       "    <tr>\n",
       "      <th>count</th>\n",
       "      <td>19808.000000</td>\n",
       "      <td>19808.000000</td>\n",
       "      <td>19808.000000</td>\n",
       "      <td>19808.000000</td>\n",
       "      <td>19808.000000</td>\n",
       "      <td>19808.000000</td>\n",
       "      <td>19808.000000</td>\n",
       "    </tr>\n",
       "    <tr>\n",
       "      <th>mean</th>\n",
       "      <td>4960.883128</td>\n",
       "      <td>645.977585</td>\n",
       "      <td>734.854301</td>\n",
       "      <td>929.766155</td>\n",
       "      <td>763.988540</td>\n",
       "      <td>854.072950</td>\n",
       "      <td>989.736622</td>\n",
       "    </tr>\n",
       "    <tr>\n",
       "      <th>std</th>\n",
       "      <td>3711.270948</td>\n",
       "      <td>4636.727936</td>\n",
       "      <td>5060.123061</td>\n",
       "      <td>6529.536291</td>\n",
       "      <td>5473.676418</td>\n",
       "      <td>6218.783364</td>\n",
       "      <td>6808.856693</td>\n",
       "    </tr>\n",
       "    <tr>\n",
       "      <th>min</th>\n",
       "      <td>33.000000</td>\n",
       "      <td>0.000000</td>\n",
       "      <td>0.000000</td>\n",
       "      <td>0.000000</td>\n",
       "      <td>0.000000</td>\n",
       "      <td>0.000000</td>\n",
       "      <td>0.000000</td>\n",
       "    </tr>\n",
       "    <tr>\n",
       "      <th>25%</th>\n",
       "      <td>2393.750000</td>\n",
       "      <td>0.000000</td>\n",
       "      <td>0.000000</td>\n",
       "      <td>0.000000</td>\n",
       "      <td>0.000000</td>\n",
       "      <td>0.000000</td>\n",
       "      <td>0.000000</td>\n",
       "    </tr>\n",
       "    <tr>\n",
       "      <th>50%</th>\n",
       "      <td>4143.000000</td>\n",
       "      <td>68.000000</td>\n",
       "      <td>75.000000</td>\n",
       "      <td>96.000000</td>\n",
       "      <td>73.000000</td>\n",
       "      <td>83.000000</td>\n",
       "      <td>94.000000</td>\n",
       "    </tr>\n",
       "    <tr>\n",
       "      <th>75%</th>\n",
       "      <td>6619.000000</td>\n",
       "      <td>455.000000</td>\n",
       "      <td>521.000000</td>\n",
       "      <td>655.000000</td>\n",
       "      <td>531.000000</td>\n",
       "      <td>594.250000</td>\n",
       "      <td>696.250000</td>\n",
       "    </tr>\n",
       "    <tr>\n",
       "      <th>max</th>\n",
       "      <td>118327.000000</td>\n",
       "      <td>389976.000000</td>\n",
       "      <td>425502.000000</td>\n",
       "      <td>542186.000000</td>\n",
       "      <td>411442.000000</td>\n",
       "      <td>476419.000000</td>\n",
       "      <td>506723.000000</td>\n",
       "    </tr>\n",
       "  </tbody>\n",
       "</table>\n",
       "</div>"
      ],
      "text/plain": [
       "              length      SRR493366      SRR493367      SRR493368  \\\n",
       "count   19808.000000   19808.000000   19808.000000   19808.000000   \n",
       "mean     4960.883128     645.977585     734.854301     929.766155   \n",
       "std      3711.270948    4636.727936    5060.123061    6529.536291   \n",
       "min        33.000000       0.000000       0.000000       0.000000   \n",
       "25%      2393.750000       0.000000       0.000000       0.000000   \n",
       "50%      4143.000000      68.000000      75.000000      96.000000   \n",
       "75%      6619.000000     455.000000     521.000000     655.000000   \n",
       "max    118327.000000  389976.000000  425502.000000  542186.000000   \n",
       "\n",
       "           SRR493369      SRR493370      SRR493371  \n",
       "count   19808.000000   19808.000000   19808.000000  \n",
       "mean      763.988540     854.072950     989.736622  \n",
       "std      5473.676418    6218.783364    6808.856693  \n",
       "min         0.000000       0.000000       0.000000  \n",
       "25%         0.000000       0.000000       0.000000  \n",
       "50%        73.000000      83.000000      94.000000  \n",
       "75%       531.000000     594.250000     696.250000  \n",
       "max    411442.000000  476419.000000  506723.000000  "
      ]
     },
     "execution_count": 67,
     "metadata": {},
     "output_type": "execute_result"
    }
   ],
   "source": [
    "gene_data.describe()"
   ]
  },
  {
   "cell_type": "code",
   "execution_count": 68,
   "metadata": {
    "collapsed": false
   },
   "outputs": [
    {
     "data": {
      "text/plain": [
       "0          918\n",
       "1          718\n",
       "2         1982\n",
       "3          939\n",
       "4          939\n",
       "5         3214\n",
       "6         5539\n",
       "7         3395\n",
       "8         2833\n",
       "9         3424\n",
       "10        1118\n",
       "11         942\n",
       "12       10758\n",
       "13        1902\n",
       "14        6322\n",
       "15        3943\n",
       "16        1370\n",
       "17        1721\n",
       "18        4709\n",
       "19        2777\n",
       "20        1794\n",
       "21        4712\n",
       "22        4025\n",
       "23        8809\n",
       "24        2489\n",
       "25        8220\n",
       "26        2556\n",
       "27        3433\n",
       "28        3814\n",
       "29        3622\n",
       "         ...  \n",
       "19778     1141\n",
       "19779     1806\n",
       "19780     1426\n",
       "19781     3660\n",
       "19782      285\n",
       "19783      473\n",
       "19784      288\n",
       "19785      600\n",
       "19786     2627\n",
       "19787     1084\n",
       "19788     1343\n",
       "19789     2237\n",
       "19790     2179\n",
       "19791     1599\n",
       "19792     1468\n",
       "19793     2195\n",
       "19794     1468\n",
       "19795      372\n",
       "19796     2404\n",
       "19797     1213\n",
       "19798     2405\n",
       "19799     2637\n",
       "19800     3027\n",
       "19801     2404\n",
       "19802      740\n",
       "19803      294\n",
       "19804      351\n",
       "19805     4520\n",
       "19806      831\n",
       "19807      510\n",
       "Name: length, dtype: int64"
      ]
     },
     "execution_count": 68,
     "metadata": {},
     "output_type": "execute_result"
    }
   ],
   "source": [
    "gene_data['length']"
   ]
  },
  {
   "cell_type": "code",
   "execution_count": 69,
   "metadata": {
    "collapsed": false
   },
   "outputs": [
    {
     "data": {
      "text/plain": [
       "118327"
      ]
     },
     "execution_count": 69,
     "metadata": {},
     "output_type": "execute_result"
    }
   ],
   "source": [
    "gene_data['length'].max()"
   ]
  },
  {
   "cell_type": "code",
   "execution_count": 70,
   "metadata": {
    "collapsed": false
   },
   "outputs": [
    {
     "data": {
      "text/html": [
       "<div>\n",
       "<table border=\"1\" class=\"dataframe\">\n",
       "  <thead>\n",
       "    <tr style=\"text-align: right;\">\n",
       "      <th></th>\n",
       "      <th>SRR493366</th>\n",
       "      <th>SRR493367</th>\n",
       "      <th>SRR493368</th>\n",
       "    </tr>\n",
       "  </thead>\n",
       "  <tbody>\n",
       "    <tr>\n",
       "      <th>0</th>\n",
       "      <td>0</td>\n",
       "      <td>0</td>\n",
       "      <td>0</td>\n",
       "    </tr>\n",
       "    <tr>\n",
       "      <th>1</th>\n",
       "      <td>0</td>\n",
       "      <td>0</td>\n",
       "      <td>0</td>\n",
       "    </tr>\n",
       "    <tr>\n",
       "      <th>2</th>\n",
       "      <td>23</td>\n",
       "      <td>28</td>\n",
       "      <td>29</td>\n",
       "    </tr>\n",
       "    <tr>\n",
       "      <th>3</th>\n",
       "      <td>0</td>\n",
       "      <td>0</td>\n",
       "      <td>0</td>\n",
       "    </tr>\n",
       "    <tr>\n",
       "      <th>4</th>\n",
       "      <td>0</td>\n",
       "      <td>0</td>\n",
       "      <td>0</td>\n",
       "    </tr>\n",
       "    <tr>\n",
       "      <th>5</th>\n",
       "      <td>124</td>\n",
       "      <td>123</td>\n",
       "      <td>205</td>\n",
       "    </tr>\n",
       "    <tr>\n",
       "      <th>6</th>\n",
       "      <td>1637</td>\n",
       "      <td>1831</td>\n",
       "      <td>2383</td>\n",
       "    </tr>\n",
       "    <tr>\n",
       "      <th>7</th>\n",
       "      <td>120</td>\n",
       "      <td>153</td>\n",
       "      <td>180</td>\n",
       "    </tr>\n",
       "    <tr>\n",
       "      <th>8</th>\n",
       "      <td>24</td>\n",
       "      <td>48</td>\n",
       "      <td>65</td>\n",
       "    </tr>\n",
       "    <tr>\n",
       "      <th>9</th>\n",
       "      <td>4</td>\n",
       "      <td>9</td>\n",
       "      <td>16</td>\n",
       "    </tr>\n",
       "    <tr>\n",
       "      <th>10</th>\n",
       "      <td>31</td>\n",
       "      <td>34</td>\n",
       "      <td>57</td>\n",
       "    </tr>\n",
       "    <tr>\n",
       "      <th>11</th>\n",
       "      <td>244</td>\n",
       "      <td>289</td>\n",
       "      <td>386</td>\n",
       "    </tr>\n",
       "    <tr>\n",
       "      <th>12</th>\n",
       "      <td>6547</td>\n",
       "      <td>6758</td>\n",
       "      <td>9367</td>\n",
       "    </tr>\n",
       "    <tr>\n",
       "      <th>13</th>\n",
       "      <td>0</td>\n",
       "      <td>0</td>\n",
       "      <td>0</td>\n",
       "    </tr>\n",
       "    <tr>\n",
       "      <th>14</th>\n",
       "      <td>115</td>\n",
       "      <td>135</td>\n",
       "      <td>169</td>\n",
       "    </tr>\n",
       "    <tr>\n",
       "      <th>15</th>\n",
       "      <td>0</td>\n",
       "      <td>0</td>\n",
       "      <td>0</td>\n",
       "    </tr>\n",
       "    <tr>\n",
       "      <th>16</th>\n",
       "      <td>2</td>\n",
       "      <td>0</td>\n",
       "      <td>0</td>\n",
       "    </tr>\n",
       "    <tr>\n",
       "      <th>17</th>\n",
       "      <td>0</td>\n",
       "      <td>0</td>\n",
       "      <td>1</td>\n",
       "    </tr>\n",
       "    <tr>\n",
       "      <th>18</th>\n",
       "      <td>3355</td>\n",
       "      <td>3427</td>\n",
       "      <td>4634</td>\n",
       "    </tr>\n",
       "    <tr>\n",
       "      <th>19</th>\n",
       "      <td>555</td>\n",
       "      <td>744</td>\n",
       "      <td>925</td>\n",
       "    </tr>\n",
       "    <tr>\n",
       "      <th>20</th>\n",
       "      <td>4</td>\n",
       "      <td>5</td>\n",
       "      <td>2</td>\n",
       "    </tr>\n",
       "    <tr>\n",
       "      <th>21</th>\n",
       "      <td>805</td>\n",
       "      <td>943</td>\n",
       "      <td>1261</td>\n",
       "    </tr>\n",
       "    <tr>\n",
       "      <th>22</th>\n",
       "      <td>18</td>\n",
       "      <td>17</td>\n",
       "      <td>32</td>\n",
       "    </tr>\n",
       "    <tr>\n",
       "      <th>23</th>\n",
       "      <td>654</td>\n",
       "      <td>794</td>\n",
       "      <td>1010</td>\n",
       "    </tr>\n",
       "    <tr>\n",
       "      <th>24</th>\n",
       "      <td>186</td>\n",
       "      <td>209</td>\n",
       "      <td>233</td>\n",
       "    </tr>\n",
       "    <tr>\n",
       "      <th>25</th>\n",
       "      <td>833</td>\n",
       "      <td>852</td>\n",
       "      <td>1144</td>\n",
       "    </tr>\n",
       "    <tr>\n",
       "      <th>26</th>\n",
       "      <td>244</td>\n",
       "      <td>292</td>\n",
       "      <td>393</td>\n",
       "    </tr>\n",
       "    <tr>\n",
       "      <th>27</th>\n",
       "      <td>4</td>\n",
       "      <td>4</td>\n",
       "      <td>9</td>\n",
       "    </tr>\n",
       "    <tr>\n",
       "      <th>28</th>\n",
       "      <td>829</td>\n",
       "      <td>926</td>\n",
       "      <td>1255</td>\n",
       "    </tr>\n",
       "    <tr>\n",
       "      <th>29</th>\n",
       "      <td>3604</td>\n",
       "      <td>3957</td>\n",
       "      <td>5289</td>\n",
       "    </tr>\n",
       "    <tr>\n",
       "      <th>...</th>\n",
       "      <td>...</td>\n",
       "      <td>...</td>\n",
       "      <td>...</td>\n",
       "    </tr>\n",
       "    <tr>\n",
       "      <th>19778</th>\n",
       "      <td>22971</td>\n",
       "      <td>26397</td>\n",
       "      <td>35386</td>\n",
       "    </tr>\n",
       "    <tr>\n",
       "      <th>19779</th>\n",
       "      <td>0</td>\n",
       "      <td>0</td>\n",
       "      <td>0</td>\n",
       "    </tr>\n",
       "    <tr>\n",
       "      <th>19780</th>\n",
       "      <td>0</td>\n",
       "      <td>0</td>\n",
       "      <td>0</td>\n",
       "    </tr>\n",
       "    <tr>\n",
       "      <th>19781</th>\n",
       "      <td>0</td>\n",
       "      <td>1</td>\n",
       "      <td>1</td>\n",
       "    </tr>\n",
       "    <tr>\n",
       "      <th>19782</th>\n",
       "      <td>0</td>\n",
       "      <td>0</td>\n",
       "      <td>0</td>\n",
       "    </tr>\n",
       "    <tr>\n",
       "      <th>19783</th>\n",
       "      <td>0</td>\n",
       "      <td>0</td>\n",
       "      <td>0</td>\n",
       "    </tr>\n",
       "    <tr>\n",
       "      <th>19784</th>\n",
       "      <td>0</td>\n",
       "      <td>0</td>\n",
       "      <td>0</td>\n",
       "    </tr>\n",
       "    <tr>\n",
       "      <th>19785</th>\n",
       "      <td>0</td>\n",
       "      <td>0</td>\n",
       "      <td>0</td>\n",
       "    </tr>\n",
       "    <tr>\n",
       "      <th>19786</th>\n",
       "      <td>0</td>\n",
       "      <td>0</td>\n",
       "      <td>0</td>\n",
       "    </tr>\n",
       "    <tr>\n",
       "      <th>19787</th>\n",
       "      <td>0</td>\n",
       "      <td>0</td>\n",
       "      <td>0</td>\n",
       "    </tr>\n",
       "    <tr>\n",
       "      <th>19788</th>\n",
       "      <td>0</td>\n",
       "      <td>0</td>\n",
       "      <td>0</td>\n",
       "    </tr>\n",
       "    <tr>\n",
       "      <th>19789</th>\n",
       "      <td>1</td>\n",
       "      <td>0</td>\n",
       "      <td>0</td>\n",
       "    </tr>\n",
       "    <tr>\n",
       "      <th>19790</th>\n",
       "      <td>0</td>\n",
       "      <td>0</td>\n",
       "      <td>1</td>\n",
       "    </tr>\n",
       "    <tr>\n",
       "      <th>19791</th>\n",
       "      <td>0</td>\n",
       "      <td>0</td>\n",
       "      <td>0</td>\n",
       "    </tr>\n",
       "    <tr>\n",
       "      <th>19792</th>\n",
       "      <td>0</td>\n",
       "      <td>0</td>\n",
       "      <td>0</td>\n",
       "    </tr>\n",
       "    <tr>\n",
       "      <th>19793</th>\n",
       "      <td>75</td>\n",
       "      <td>69</td>\n",
       "      <td>109</td>\n",
       "    </tr>\n",
       "    <tr>\n",
       "      <th>19794</th>\n",
       "      <td>0</td>\n",
       "      <td>3</td>\n",
       "      <td>0</td>\n",
       "    </tr>\n",
       "    <tr>\n",
       "      <th>19795</th>\n",
       "      <td>23</td>\n",
       "      <td>28</td>\n",
       "      <td>26</td>\n",
       "    </tr>\n",
       "    <tr>\n",
       "      <th>19796</th>\n",
       "      <td>0</td>\n",
       "      <td>0</td>\n",
       "      <td>0</td>\n",
       "    </tr>\n",
       "    <tr>\n",
       "      <th>19797</th>\n",
       "      <td>3</td>\n",
       "      <td>1</td>\n",
       "      <td>4</td>\n",
       "    </tr>\n",
       "    <tr>\n",
       "      <th>19798</th>\n",
       "      <td>0</td>\n",
       "      <td>0</td>\n",
       "      <td>0</td>\n",
       "    </tr>\n",
       "    <tr>\n",
       "      <th>19799</th>\n",
       "      <td>0</td>\n",
       "      <td>0</td>\n",
       "      <td>0</td>\n",
       "    </tr>\n",
       "    <tr>\n",
       "      <th>19800</th>\n",
       "      <td>0</td>\n",
       "      <td>1</td>\n",
       "      <td>2</td>\n",
       "    </tr>\n",
       "    <tr>\n",
       "      <th>19801</th>\n",
       "      <td>0</td>\n",
       "      <td>0</td>\n",
       "      <td>0</td>\n",
       "    </tr>\n",
       "    <tr>\n",
       "      <th>19802</th>\n",
       "      <td>72</td>\n",
       "      <td>73</td>\n",
       "      <td>91</td>\n",
       "    </tr>\n",
       "    <tr>\n",
       "      <th>19803</th>\n",
       "      <td>0</td>\n",
       "      <td>0</td>\n",
       "      <td>0</td>\n",
       "    </tr>\n",
       "    <tr>\n",
       "      <th>19804</th>\n",
       "      <td>0</td>\n",
       "      <td>0</td>\n",
       "      <td>0</td>\n",
       "    </tr>\n",
       "    <tr>\n",
       "      <th>19805</th>\n",
       "      <td>188</td>\n",
       "      <td>211</td>\n",
       "      <td>222</td>\n",
       "    </tr>\n",
       "    <tr>\n",
       "      <th>19806</th>\n",
       "      <td>0</td>\n",
       "      <td>0</td>\n",
       "      <td>0</td>\n",
       "    </tr>\n",
       "    <tr>\n",
       "      <th>19807</th>\n",
       "      <td>0</td>\n",
       "      <td>0</td>\n",
       "      <td>0</td>\n",
       "    </tr>\n",
       "  </tbody>\n",
       "</table>\n",
       "<p>19808 rows × 3 columns</p>\n",
       "</div>"
      ],
      "text/plain": [
       "       SRR493366  SRR493367  SRR493368\n",
       "0              0          0          0\n",
       "1              0          0          0\n",
       "2             23         28         29\n",
       "3              0          0          0\n",
       "4              0          0          0\n",
       "5            124        123        205\n",
       "6           1637       1831       2383\n",
       "7            120        153        180\n",
       "8             24         48         65\n",
       "9              4          9         16\n",
       "10            31         34         57\n",
       "11           244        289        386\n",
       "12          6547       6758       9367\n",
       "13             0          0          0\n",
       "14           115        135        169\n",
       "15             0          0          0\n",
       "16             2          0          0\n",
       "17             0          0          1\n",
       "18          3355       3427       4634\n",
       "19           555        744        925\n",
       "20             4          5          2\n",
       "21           805        943       1261\n",
       "22            18         17         32\n",
       "23           654        794       1010\n",
       "24           186        209        233\n",
       "25           833        852       1144\n",
       "26           244        292        393\n",
       "27             4          4          9\n",
       "28           829        926       1255\n",
       "29          3604       3957       5289\n",
       "...          ...        ...        ...\n",
       "19778      22971      26397      35386\n",
       "19779          0          0          0\n",
       "19780          0          0          0\n",
       "19781          0          1          1\n",
       "19782          0          0          0\n",
       "19783          0          0          0\n",
       "19784          0          0          0\n",
       "19785          0          0          0\n",
       "19786          0          0          0\n",
       "19787          0          0          0\n",
       "19788          0          0          0\n",
       "19789          1          0          0\n",
       "19790          0          0          1\n",
       "19791          0          0          0\n",
       "19792          0          0          0\n",
       "19793         75         69        109\n",
       "19794          0          3          0\n",
       "19795         23         28         26\n",
       "19796          0          0          0\n",
       "19797          3          1          4\n",
       "19798          0          0          0\n",
       "19799          0          0          0\n",
       "19800          0          1          2\n",
       "19801          0          0          0\n",
       "19802         72         73         91\n",
       "19803          0          0          0\n",
       "19804          0          0          0\n",
       "19805        188        211        222\n",
       "19806          0          0          0\n",
       "19807          0          0          0\n",
       "\n",
       "[19808 rows x 3 columns]"
      ]
     },
     "execution_count": 70,
     "metadata": {},
     "output_type": "execute_result"
    }
   ],
   "source": [
    "gene_data[[2,3,4]]"
   ]
  },
  {
   "cell_type": "code",
   "execution_count": 71,
   "metadata": {
    "collapsed": false
   },
   "outputs": [
    {
     "data": {
      "text/plain": [
       "118327"
      ]
     },
     "execution_count": 71,
     "metadata": {},
     "output_type": "execute_result"
    }
   ],
   "source": [
    "gene_data['length'].max()"
   ]
  },
  {
   "cell_type": "code",
   "execution_count": 72,
   "metadata": {
    "collapsed": false
   },
   "outputs": [
    {
     "data": {
      "text/html": [
       "<div>\n",
       "<table border=\"1\" class=\"dataframe\">\n",
       "  <thead>\n",
       "    <tr style=\"text-align: right;\">\n",
       "      <th></th>\n",
       "      <th>length</th>\n",
       "    </tr>\n",
       "  </thead>\n",
       "  <tbody>\n",
       "    <tr>\n",
       "      <th>0</th>\n",
       "      <td>918</td>\n",
       "    </tr>\n",
       "    <tr>\n",
       "      <th>1</th>\n",
       "      <td>718</td>\n",
       "    </tr>\n",
       "    <tr>\n",
       "      <th>2</th>\n",
       "      <td>1982</td>\n",
       "    </tr>\n",
       "    <tr>\n",
       "      <th>3</th>\n",
       "      <td>939</td>\n",
       "    </tr>\n",
       "    <tr>\n",
       "      <th>4</th>\n",
       "      <td>939</td>\n",
       "    </tr>\n",
       "    <tr>\n",
       "      <th>5</th>\n",
       "      <td>3214</td>\n",
       "    </tr>\n",
       "    <tr>\n",
       "      <th>6</th>\n",
       "      <td>5539</td>\n",
       "    </tr>\n",
       "    <tr>\n",
       "      <th>7</th>\n",
       "      <td>3395</td>\n",
       "    </tr>\n",
       "    <tr>\n",
       "      <th>8</th>\n",
       "      <td>2833</td>\n",
       "    </tr>\n",
       "    <tr>\n",
       "      <th>9</th>\n",
       "      <td>3424</td>\n",
       "    </tr>\n",
       "    <tr>\n",
       "      <th>10</th>\n",
       "      <td>1118</td>\n",
       "    </tr>\n",
       "    <tr>\n",
       "      <th>11</th>\n",
       "      <td>942</td>\n",
       "    </tr>\n",
       "    <tr>\n",
       "      <th>12</th>\n",
       "      <td>10758</td>\n",
       "    </tr>\n",
       "    <tr>\n",
       "      <th>13</th>\n",
       "      <td>1902</td>\n",
       "    </tr>\n",
       "    <tr>\n",
       "      <th>14</th>\n",
       "      <td>6322</td>\n",
       "    </tr>\n",
       "    <tr>\n",
       "      <th>15</th>\n",
       "      <td>3943</td>\n",
       "    </tr>\n",
       "    <tr>\n",
       "      <th>16</th>\n",
       "      <td>1370</td>\n",
       "    </tr>\n",
       "    <tr>\n",
       "      <th>17</th>\n",
       "      <td>1721</td>\n",
       "    </tr>\n",
       "    <tr>\n",
       "      <th>18</th>\n",
       "      <td>4709</td>\n",
       "    </tr>\n",
       "    <tr>\n",
       "      <th>19</th>\n",
       "      <td>2777</td>\n",
       "    </tr>\n",
       "    <tr>\n",
       "      <th>20</th>\n",
       "      <td>1794</td>\n",
       "    </tr>\n",
       "    <tr>\n",
       "      <th>21</th>\n",
       "      <td>4712</td>\n",
       "    </tr>\n",
       "    <tr>\n",
       "      <th>22</th>\n",
       "      <td>4025</td>\n",
       "    </tr>\n",
       "    <tr>\n",
       "      <th>23</th>\n",
       "      <td>8809</td>\n",
       "    </tr>\n",
       "    <tr>\n",
       "      <th>24</th>\n",
       "      <td>2489</td>\n",
       "    </tr>\n",
       "    <tr>\n",
       "      <th>25</th>\n",
       "      <td>8220</td>\n",
       "    </tr>\n",
       "    <tr>\n",
       "      <th>26</th>\n",
       "      <td>2556</td>\n",
       "    </tr>\n",
       "    <tr>\n",
       "      <th>27</th>\n",
       "      <td>3433</td>\n",
       "    </tr>\n",
       "    <tr>\n",
       "      <th>28</th>\n",
       "      <td>3814</td>\n",
       "    </tr>\n",
       "    <tr>\n",
       "      <th>29</th>\n",
       "      <td>3622</td>\n",
       "    </tr>\n",
       "    <tr>\n",
       "      <th>...</th>\n",
       "      <td>...</td>\n",
       "    </tr>\n",
       "    <tr>\n",
       "      <th>19778</th>\n",
       "      <td>1141</td>\n",
       "    </tr>\n",
       "    <tr>\n",
       "      <th>19779</th>\n",
       "      <td>1806</td>\n",
       "    </tr>\n",
       "    <tr>\n",
       "      <th>19780</th>\n",
       "      <td>1426</td>\n",
       "    </tr>\n",
       "    <tr>\n",
       "      <th>19781</th>\n",
       "      <td>3660</td>\n",
       "    </tr>\n",
       "    <tr>\n",
       "      <th>19782</th>\n",
       "      <td>285</td>\n",
       "    </tr>\n",
       "    <tr>\n",
       "      <th>19783</th>\n",
       "      <td>473</td>\n",
       "    </tr>\n",
       "    <tr>\n",
       "      <th>19784</th>\n",
       "      <td>288</td>\n",
       "    </tr>\n",
       "    <tr>\n",
       "      <th>19785</th>\n",
       "      <td>600</td>\n",
       "    </tr>\n",
       "    <tr>\n",
       "      <th>19786</th>\n",
       "      <td>2627</td>\n",
       "    </tr>\n",
       "    <tr>\n",
       "      <th>19787</th>\n",
       "      <td>1084</td>\n",
       "    </tr>\n",
       "    <tr>\n",
       "      <th>19788</th>\n",
       "      <td>1343</td>\n",
       "    </tr>\n",
       "    <tr>\n",
       "      <th>19789</th>\n",
       "      <td>2237</td>\n",
       "    </tr>\n",
       "    <tr>\n",
       "      <th>19790</th>\n",
       "      <td>2179</td>\n",
       "    </tr>\n",
       "    <tr>\n",
       "      <th>19791</th>\n",
       "      <td>1599</td>\n",
       "    </tr>\n",
       "    <tr>\n",
       "      <th>19792</th>\n",
       "      <td>1468</td>\n",
       "    </tr>\n",
       "    <tr>\n",
       "      <th>19793</th>\n",
       "      <td>2195</td>\n",
       "    </tr>\n",
       "    <tr>\n",
       "      <th>19794</th>\n",
       "      <td>1468</td>\n",
       "    </tr>\n",
       "    <tr>\n",
       "      <th>19795</th>\n",
       "      <td>372</td>\n",
       "    </tr>\n",
       "    <tr>\n",
       "      <th>19796</th>\n",
       "      <td>2404</td>\n",
       "    </tr>\n",
       "    <tr>\n",
       "      <th>19797</th>\n",
       "      <td>1213</td>\n",
       "    </tr>\n",
       "    <tr>\n",
       "      <th>19798</th>\n",
       "      <td>2405</td>\n",
       "    </tr>\n",
       "    <tr>\n",
       "      <th>19799</th>\n",
       "      <td>2637</td>\n",
       "    </tr>\n",
       "    <tr>\n",
       "      <th>19800</th>\n",
       "      <td>3027</td>\n",
       "    </tr>\n",
       "    <tr>\n",
       "      <th>19801</th>\n",
       "      <td>2404</td>\n",
       "    </tr>\n",
       "    <tr>\n",
       "      <th>19802</th>\n",
       "      <td>740</td>\n",
       "    </tr>\n",
       "    <tr>\n",
       "      <th>19803</th>\n",
       "      <td>294</td>\n",
       "    </tr>\n",
       "    <tr>\n",
       "      <th>19804</th>\n",
       "      <td>351</td>\n",
       "    </tr>\n",
       "    <tr>\n",
       "      <th>19805</th>\n",
       "      <td>4520</td>\n",
       "    </tr>\n",
       "    <tr>\n",
       "      <th>19806</th>\n",
       "      <td>831</td>\n",
       "    </tr>\n",
       "    <tr>\n",
       "      <th>19807</th>\n",
       "      <td>510</td>\n",
       "    </tr>\n",
       "  </tbody>\n",
       "</table>\n",
       "<p>19808 rows × 1 columns</p>\n",
       "</div>"
      ],
      "text/plain": [
       "       length\n",
       "0         918\n",
       "1         718\n",
       "2        1982\n",
       "3         939\n",
       "4         939\n",
       "5        3214\n",
       "6        5539\n",
       "7        3395\n",
       "8        2833\n",
       "9        3424\n",
       "10       1118\n",
       "11        942\n",
       "12      10758\n",
       "13       1902\n",
       "14       6322\n",
       "15       3943\n",
       "16       1370\n",
       "17       1721\n",
       "18       4709\n",
       "19       2777\n",
       "20       1794\n",
       "21       4712\n",
       "22       4025\n",
       "23       8809\n",
       "24       2489\n",
       "25       8220\n",
       "26       2556\n",
       "27       3433\n",
       "28       3814\n",
       "29       3622\n",
       "...       ...\n",
       "19778    1141\n",
       "19779    1806\n",
       "19780    1426\n",
       "19781    3660\n",
       "19782     285\n",
       "19783     473\n",
       "19784     288\n",
       "19785     600\n",
       "19786    2627\n",
       "19787    1084\n",
       "19788    1343\n",
       "19789    2237\n",
       "19790    2179\n",
       "19791    1599\n",
       "19792    1468\n",
       "19793    2195\n",
       "19794    1468\n",
       "19795     372\n",
       "19796    2404\n",
       "19797    1213\n",
       "19798    2405\n",
       "19799    2637\n",
       "19800    3027\n",
       "19801    2404\n",
       "19802     740\n",
       "19803     294\n",
       "19804     351\n",
       "19805    4520\n",
       "19806     831\n",
       "19807     510\n",
       "\n",
       "[19808 rows x 1 columns]"
      ]
     },
     "execution_count": 72,
     "metadata": {},
     "output_type": "execute_result"
    }
   ],
   "source": [
    "gene_data['length']\n",
    "gene_data.length\n",
    "gene_data[[1]]\n",
    "#all do the same thing"
   ]
  },
  {
   "cell_type": "code",
   "execution_count": 73,
   "metadata": {
    "collapsed": false
   },
   "outputs": [
    {
     "data": {
      "text/plain": [
       "118327"
      ]
     },
     "execution_count": 73,
     "metadata": {},
     "output_type": "execute_result"
    }
   ],
   "source": [
    "gene_data.length.max()"
   ]
  },
  {
   "cell_type": "code",
   "execution_count": 74,
   "metadata": {
    "collapsed": false
   },
   "outputs": [
    {
     "data": {
      "text/plain": [
       "<matplotlib.axes._subplots.AxesSubplot at 0x113a6e0f0>"
      ]
     },
     "execution_count": 74,
     "metadata": {},
     "output_type": "execute_result"
    },
    {
     "data": {
      "image/png": "[encoded data removed]",
      "text/plain": [
       "<matplotlib.figure.Figure at 0x113a6ec88>"
      ]
     },
     "metadata": {},
     "output_type": "display_data"
    }
   ],
   "source": [
    "gene_data.plot()"
   ]
  },
  {
   "cell_type": "code",
   "execution_count": 75,
   "metadata": {
    "collapsed": false
   },
   "outputs": [
    {
     "data": {
      "text/plain": [
       "array([[<matplotlib.axes._subplots.AxesSubplot object at 0x114ac47b8>,\n",
       "        <matplotlib.axes._subplots.AxesSubplot object at 0x11aeb16d8>,\n",
       "        <matplotlib.axes._subplots.AxesSubplot object at 0x11adcd1d0>],\n",
       "       [<matplotlib.axes._subplots.AxesSubplot object at 0x11b3cf5c0>,\n",
       "        <matplotlib.axes._subplots.AxesSubplot object at 0x11b42c0b8>,\n",
       "        <matplotlib.axes._subplots.AxesSubplot object at 0x11b474128>],\n",
       "       [<matplotlib.axes._subplots.AxesSubplot object at 0x11b4d9cf8>,\n",
       "        <matplotlib.axes._subplots.AxesSubplot object at 0x11b514f28>,\n",
       "        <matplotlib.axes._subplots.AxesSubplot object at 0x11b357e80>]], dtype=object)"
      ]
     },
     "execution_count": 75,
     "metadata": {},
     "output_type": "execute_result"
    },
    {
     "data": {
      "image/png": "[encoded data removed]",
      "text/plain": [
       "<matplotlib.figure.Figure at 0x11adc3ac8>"
      ]
     },
     "metadata": {},
     "output_type": "display_data"
    }
   ],
   "source": [
    "gene_data.hist()"
   ]
  },
  {
   "cell_type": "code",
   "execution_count": 76,
   "metadata": {
    "collapsed": false
   },
   "outputs": [
    {
     "data": {
      "text/plain": [
       "<matplotlib.axes._subplots.AxesSubplot at 0x117de8240>"
      ]
     },
     "execution_count": 76,
     "metadata": {},
     "output_type": "execute_result"
    },
    {
     "data": {
      "image/png": "[encoded data removed]",
      "text/plain": [
       "<matplotlib.figure.Figure at 0x117f07e48>"
      ]
     },
     "metadata": {},
     "output_type": "display_data"
    }
   ],
   "source": [
    "gene_data['SRR493366'].hist()"
   ]
  },
  {
   "cell_type": "code",
   "execution_count": 77,
   "metadata": {
    "collapsed": false
   },
   "outputs": [
    {
     "data": {
      "text/plain": [
       "<matplotlib.axes._subplots.AxesSubplot at 0x118069320>"
      ]
     },
     "execution_count": 77,
     "metadata": {},
     "output_type": "execute_result"
    },
    {
     "data": {
      "image/png": "[encoded data removed]",
      "text/plain": [
       "<matplotlib.figure.Figure at 0x117f50e48>"
      ]
     },
     "metadata": {},
     "output_type": "display_data"
    }
   ],
   "source": [
    "gene_data['SRR493366'].hist(bins=50)"
   ]
  },
  {
   "cell_type": "code",
   "execution_count": 79,
   "metadata": {
    "collapsed": false
   },
   "outputs": [
    {
     "data": {
      "text/plain": [
       "<matplotlib.axes._subplots.AxesSubplot at 0x1182a6080>"
      ]
     },
     "execution_count": 79,
     "metadata": {},
     "output_type": "execute_result"
    },
    {
     "data": {
      "image/png": "[encoded data removed]",
      "text/plain": [
       "<matplotlib.figure.Figure at 0x117f22b00>"
      ]
     },
     "metadata": {},
     "output_type": "display_data"
    }
   ],
   "source": [
    "gene_data['SRR493366'].hist(bins=50, log=True)"
   ]
  },
  {
   "cell_type": "code",
   "execution_count": 80,
   "metadata": {
    "collapsed": false
   },
   "outputs": [
    {
     "data": {
      "text/plain": [
       "<matplotlib.axes._subplots.AxesSubplot at 0x11c137240>"
      ]
     },
     "execution_count": 80,
     "metadata": {},
     "output_type": "execute_result"
    },
    {
     "data": {
      "image/png": "[encoded data removed]",
      "text/plain": [
       "<matplotlib.figure.Figure at 0x118170438>"
      ]
     },
     "metadata": {},
     "output_type": "display_data"
    }
   ],
   "source": [
    "gene_data['SRR493366'].hist(bins=50, log=True, range=[1,60000])"
   ]
  },
  {
   "cell_type": "code",
   "execution_count": 81,
   "metadata": {
    "collapsed": false
   },
   "outputs": [
    {
     "data": {
      "text/html": [
       "<div>\n",
       "<table border=\"1\" class=\"dataframe\">\n",
       "  <thead>\n",
       "    <tr style=\"text-align: right;\">\n",
       "      <th></th>\n",
       "      <th>ensgene</th>\n",
       "      <th>length</th>\n",
       "      <th>SRR493366</th>\n",
       "      <th>SRR493367</th>\n",
       "      <th>SRR493368</th>\n",
       "      <th>SRR493369</th>\n",
       "      <th>SRR493370</th>\n",
       "      <th>SRR493371</th>\n",
       "    </tr>\n",
       "  </thead>\n",
       "  <tbody>\n",
       "    <tr>\n",
       "      <th>0</th>\n",
       "      <td>ENSG00000186092</td>\n",
       "      <td>918</td>\n",
       "      <td>0</td>\n",
       "      <td>0</td>\n",
       "      <td>0</td>\n",
       "      <td>0</td>\n",
       "      <td>0</td>\n",
       "      <td>0</td>\n",
       "    </tr>\n",
       "    <tr>\n",
       "      <th>1</th>\n",
       "      <td>ENSG00000279928</td>\n",
       "      <td>718</td>\n",
       "      <td>0</td>\n",
       "      <td>0</td>\n",
       "      <td>0</td>\n",
       "      <td>0</td>\n",
       "      <td>0</td>\n",
       "      <td>0</td>\n",
       "    </tr>\n",
       "    <tr>\n",
       "      <th>2</th>\n",
       "      <td>ENSG00000279457</td>\n",
       "      <td>1982</td>\n",
       "      <td>23</td>\n",
       "      <td>28</td>\n",
       "      <td>29</td>\n",
       "      <td>29</td>\n",
       "      <td>28</td>\n",
       "      <td>46</td>\n",
       "    </tr>\n",
       "    <tr>\n",
       "      <th>3</th>\n",
       "      <td>ENSG00000278566</td>\n",
       "      <td>939</td>\n",
       "      <td>0</td>\n",
       "      <td>0</td>\n",
       "      <td>0</td>\n",
       "      <td>0</td>\n",
       "      <td>0</td>\n",
       "      <td>0</td>\n",
       "    </tr>\n",
       "    <tr>\n",
       "      <th>4</th>\n",
       "      <td>ENSG00000273547</td>\n",
       "      <td>939</td>\n",
       "      <td>0</td>\n",
       "      <td>0</td>\n",
       "      <td>0</td>\n",
       "      <td>0</td>\n",
       "      <td>0</td>\n",
       "      <td>0</td>\n",
       "    </tr>\n",
       "  </tbody>\n",
       "</table>\n",
       "</div>"
      ],
      "text/plain": [
       "           ensgene  length  SRR493366  SRR493367  SRR493368  SRR493369  \\\n",
       "0  ENSG00000186092     918          0          0          0          0   \n",
       "1  ENSG00000279928     718          0          0          0          0   \n",
       "2  ENSG00000279457    1982         23         28         29         29   \n",
       "3  ENSG00000278566     939          0          0          0          0   \n",
       "4  ENSG00000273547     939          0          0          0          0   \n",
       "\n",
       "   SRR493370  SRR493371  \n",
       "0          0          0  \n",
       "1          0          0  \n",
       "2         28         46  \n",
       "3          0          0  \n",
       "4          0          0  "
      ]
     },
     "execution_count": 81,
     "metadata": {},
     "output_type": "execute_result"
    }
   ],
   "source": [
    "gene_data.head()"
   ]
  },
  {
   "cell_type": "code",
   "execution_count": 83,
   "metadata": {
    "collapsed": false
   },
   "outputs": [],
   "source": [
    "gene_data = gene_data.set_index('ensgene')"
   ]
  },
  {
   "cell_type": "code",
   "execution_count": 84,
   "metadata": {
    "collapsed": false
   },
   "outputs": [
    {
     "data": {
      "text/html": [
       "<div>\n",
       "<table border=\"1\" class=\"dataframe\">\n",
       "  <thead>\n",
       "    <tr style=\"text-align: right;\">\n",
       "      <th></th>\n",
       "      <th>length</th>\n",
       "      <th>SRR493366</th>\n",
       "      <th>SRR493367</th>\n",
       "      <th>SRR493368</th>\n",
       "      <th>SRR493369</th>\n",
       "      <th>SRR493370</th>\n",
       "      <th>SRR493371</th>\n",
       "    </tr>\n",
       "    <tr>\n",
       "      <th>ensgene</th>\n",
       "      <th></th>\n",
       "      <th></th>\n",
       "      <th></th>\n",
       "      <th></th>\n",
       "      <th></th>\n",
       "      <th></th>\n",
       "      <th></th>\n",
       "    </tr>\n",
       "  </thead>\n",
       "  <tbody>\n",
       "    <tr>\n",
       "      <th>ENSG00000186092</th>\n",
       "      <td>918</td>\n",
       "      <td>0</td>\n",
       "      <td>0</td>\n",
       "      <td>0</td>\n",
       "      <td>0</td>\n",
       "      <td>0</td>\n",
       "      <td>0</td>\n",
       "    </tr>\n",
       "    <tr>\n",
       "      <th>ENSG00000279928</th>\n",
       "      <td>718</td>\n",
       "      <td>0</td>\n",
       "      <td>0</td>\n",
       "      <td>0</td>\n",
       "      <td>0</td>\n",
       "      <td>0</td>\n",
       "      <td>0</td>\n",
       "    </tr>\n",
       "    <tr>\n",
       "      <th>ENSG00000279457</th>\n",
       "      <td>1982</td>\n",
       "      <td>23</td>\n",
       "      <td>28</td>\n",
       "      <td>29</td>\n",
       "      <td>29</td>\n",
       "      <td>28</td>\n",
       "      <td>46</td>\n",
       "    </tr>\n",
       "    <tr>\n",
       "      <th>ENSG00000278566</th>\n",
       "      <td>939</td>\n",
       "      <td>0</td>\n",
       "      <td>0</td>\n",
       "      <td>0</td>\n",
       "      <td>0</td>\n",
       "      <td>0</td>\n",
       "      <td>0</td>\n",
       "    </tr>\n",
       "    <tr>\n",
       "      <th>ENSG00000273547</th>\n",
       "      <td>939</td>\n",
       "      <td>0</td>\n",
       "      <td>0</td>\n",
       "      <td>0</td>\n",
       "      <td>0</td>\n",
       "      <td>0</td>\n",
       "      <td>0</td>\n",
       "    </tr>\n",
       "  </tbody>\n",
       "</table>\n",
       "</div>"
      ],
      "text/plain": [
       "                 length  SRR493366  SRR493367  SRR493368  SRR493369  \\\n",
       "ensgene                                                               \n",
       "ENSG00000186092     918          0          0          0          0   \n",
       "ENSG00000279928     718          0          0          0          0   \n",
       "ENSG00000279457    1982         23         28         29         29   \n",
       "ENSG00000278566     939          0          0          0          0   \n",
       "ENSG00000273547     939          0          0          0          0   \n",
       "\n",
       "                 SRR493370  SRR493371  \n",
       "ensgene                                \n",
       "ENSG00000186092          0          0  \n",
       "ENSG00000279928          0          0  \n",
       "ENSG00000279457         28         46  \n",
       "ENSG00000278566          0          0  \n",
       "ENSG00000273547          0          0  "
      ]
     },
     "execution_count": 84,
     "metadata": {},
     "output_type": "execute_result"
    }
   ],
   "source": [
    "gene_data.head()"
   ]
  },
  {
   "cell_type": "code",
   "execution_count": 85,
   "metadata": {
    "collapsed": true
   },
   "outputs": [],
   "source": [
    "gene_counts = gene_data[[1,2,3,4,5,6]]"
   ]
  },
  {
   "cell_type": "code",
   "execution_count": 86,
   "metadata": {
    "collapsed": false
   },
   "outputs": [
    {
     "data": {
      "text/html": [
       "<div>\n",
       "<table border=\"1\" class=\"dataframe\">\n",
       "  <thead>\n",
       "    <tr style=\"text-align: right;\">\n",
       "      <th></th>\n",
       "      <th>SRR493366</th>\n",
       "      <th>SRR493367</th>\n",
       "      <th>SRR493368</th>\n",
       "      <th>SRR493369</th>\n",
       "      <th>SRR493370</th>\n",
       "      <th>SRR493371</th>\n",
       "    </tr>\n",
       "    <tr>\n",
       "      <th>ensgene</th>\n",
       "      <th></th>\n",
       "      <th></th>\n",
       "      <th></th>\n",
       "      <th></th>\n",
       "      <th></th>\n",
       "      <th></th>\n",
       "    </tr>\n",
       "  </thead>\n",
       "  <tbody>\n",
       "    <tr>\n",
       "      <th>ENSG00000186092</th>\n",
       "      <td>0</td>\n",
       "      <td>0</td>\n",
       "      <td>0</td>\n",
       "      <td>0</td>\n",
       "      <td>0</td>\n",
       "      <td>0</td>\n",
       "    </tr>\n",
       "    <tr>\n",
       "      <th>ENSG00000279928</th>\n",
       "      <td>0</td>\n",
       "      <td>0</td>\n",
       "      <td>0</td>\n",
       "      <td>0</td>\n",
       "      <td>0</td>\n",
       "      <td>0</td>\n",
       "    </tr>\n",
       "    <tr>\n",
       "      <th>ENSG00000279457</th>\n",
       "      <td>23</td>\n",
       "      <td>28</td>\n",
       "      <td>29</td>\n",
       "      <td>29</td>\n",
       "      <td>28</td>\n",
       "      <td>46</td>\n",
       "    </tr>\n",
       "    <tr>\n",
       "      <th>ENSG00000278566</th>\n",
       "      <td>0</td>\n",
       "      <td>0</td>\n",
       "      <td>0</td>\n",
       "      <td>0</td>\n",
       "      <td>0</td>\n",
       "      <td>0</td>\n",
       "    </tr>\n",
       "    <tr>\n",
       "      <th>ENSG00000273547</th>\n",
       "      <td>0</td>\n",
       "      <td>0</td>\n",
       "      <td>0</td>\n",
       "      <td>0</td>\n",
       "      <td>0</td>\n",
       "      <td>0</td>\n",
       "    </tr>\n",
       "  </tbody>\n",
       "</table>\n",
       "</div>"
      ],
      "text/plain": [
       "                 SRR493366  SRR493367  SRR493368  SRR493369  SRR493370  \\\n",
       "ensgene                                                                  \n",
       "ENSG00000186092          0          0          0          0          0   \n",
       "ENSG00000279928          0          0          0          0          0   \n",
       "ENSG00000279457         23         28         29         29         28   \n",
       "ENSG00000278566          0          0          0          0          0   \n",
       "ENSG00000273547          0          0          0          0          0   \n",
       "\n",
       "                 SRR493371  \n",
       "ensgene                     \n",
       "ENSG00000186092          0  \n",
       "ENSG00000279928          0  \n",
       "ENSG00000279457         46  \n",
       "ENSG00000278566          0  \n",
       "ENSG00000273547          0  "
      ]
     },
     "execution_count": 86,
     "metadata": {},
     "output_type": "execute_result"
    }
   ],
   "source": [
    "gene_counts.head()"
   ]
  },
  {
   "cell_type": "code",
   "execution_count": 87,
   "metadata": {
    "collapsed": false
   },
   "outputs": [
    {
     "data": {
      "text/plain": [
       "<matplotlib.axes._subplots.AxesSubplot at 0x11c9a0ef0>"
      ]
     },
     "execution_count": 87,
     "metadata": {},
     "output_type": "execute_result"
    },
    {
     "data": {
      "image/png": "[encoded data removed]",
      "text/plain": [
       "<matplotlib.figure.Figure at 0x11c1322b0>"
      ]
     },
     "metadata": {},
     "output_type": "display_data"
    }
   ],
   "source": [
    "gene_counts.plot()"
   ]
  },
  {
   "cell_type": "code",
   "execution_count": 88,
   "metadata": {
    "collapsed": false
   },
   "outputs": [
    {
     "data": {
      "text/html": [
       "<div>\n",
       "<table border=\"1\" class=\"dataframe\">\n",
       "  <thead>\n",
       "    <tr style=\"text-align: right;\">\n",
       "      <th></th>\n",
       "      <th>SRR493366</th>\n",
       "      <th>SRR493367</th>\n",
       "      <th>SRR493368</th>\n",
       "      <th>SRR493369</th>\n",
       "      <th>SRR493370</th>\n",
       "      <th>SRR493371</th>\n",
       "    </tr>\n",
       "    <tr>\n",
       "      <th>ensgene</th>\n",
       "      <th></th>\n",
       "      <th></th>\n",
       "      <th></th>\n",
       "      <th></th>\n",
       "      <th></th>\n",
       "      <th></th>\n",
       "    </tr>\n",
       "  </thead>\n",
       "  <tbody>\n",
       "    <tr>\n",
       "      <th>ENSG00000186092</th>\n",
       "      <td>0</td>\n",
       "      <td>0</td>\n",
       "      <td>0</td>\n",
       "      <td>0</td>\n",
       "      <td>0</td>\n",
       "      <td>0</td>\n",
       "    </tr>\n",
       "    <tr>\n",
       "      <th>ENSG00000279928</th>\n",
       "      <td>0</td>\n",
       "      <td>0</td>\n",
       "      <td>0</td>\n",
       "      <td>0</td>\n",
       "      <td>0</td>\n",
       "      <td>0</td>\n",
       "    </tr>\n",
       "    <tr>\n",
       "      <th>ENSG00000279457</th>\n",
       "      <td>23</td>\n",
       "      <td>28</td>\n",
       "      <td>29</td>\n",
       "      <td>29</td>\n",
       "      <td>28</td>\n",
       "      <td>46</td>\n",
       "    </tr>\n",
       "  </tbody>\n",
       "</table>\n",
       "</div>"
      ],
      "text/plain": [
       "                 SRR493366  SRR493367  SRR493368  SRR493369  SRR493370  \\\n",
       "ensgene                                                                  \n",
       "ENSG00000186092          0          0          0          0          0   \n",
       "ENSG00000279928          0          0          0          0          0   \n",
       "ENSG00000279457         23         28         29         29         28   \n",
       "\n",
       "                 SRR493371  \n",
       "ensgene                     \n",
       "ENSG00000186092          0  \n",
       "ENSG00000279928          0  \n",
       "ENSG00000279457         46  "
      ]
     },
     "execution_count": 88,
     "metadata": {},
     "output_type": "execute_result"
    }
   ],
   "source": [
    "gene_counts[0:3]"
   ]
  },
  {
   "cell_type": "code",
   "execution_count": 90,
   "metadata": {
    "collapsed": false
   },
   "outputs": [
    {
     "data": {
      "text/html": [
       "<div>\n",
       "<table border=\"1\" class=\"dataframe\">\n",
       "  <thead>\n",
       "    <tr style=\"text-align: right;\">\n",
       "      <th></th>\n",
       "      <th>SRR493366</th>\n",
       "      <th>SRR493367</th>\n",
       "      <th>SRR493368</th>\n",
       "      <th>SRR493369</th>\n",
       "      <th>SRR493370</th>\n",
       "      <th>SRR493371</th>\n",
       "    </tr>\n",
       "    <tr>\n",
       "      <th>ensgene</th>\n",
       "      <th></th>\n",
       "      <th></th>\n",
       "      <th></th>\n",
       "      <th></th>\n",
       "      <th></th>\n",
       "      <th></th>\n",
       "    </tr>\n",
       "  </thead>\n",
       "  <tbody>\n",
       "    <tr>\n",
       "      <th>ENSG00000271254</th>\n",
       "      <td>188</td>\n",
       "      <td>211</td>\n",
       "      <td>222</td>\n",
       "      <td>148</td>\n",
       "      <td>150</td>\n",
       "      <td>161</td>\n",
       "    </tr>\n",
       "    <tr>\n",
       "      <th>ENSG00000277475</th>\n",
       "      <td>0</td>\n",
       "      <td>0</td>\n",
       "      <td>0</td>\n",
       "      <td>0</td>\n",
       "      <td>0</td>\n",
       "      <td>0</td>\n",
       "    </tr>\n",
       "    <tr>\n",
       "      <th>ENSG00000268674</th>\n",
       "      <td>0</td>\n",
       "      <td>0</td>\n",
       "      <td>0</td>\n",
       "      <td>0</td>\n",
       "      <td>0</td>\n",
       "      <td>0</td>\n",
       "    </tr>\n",
       "  </tbody>\n",
       "</table>\n",
       "</div>"
      ],
      "text/plain": [
       "                 SRR493366  SRR493367  SRR493368  SRR493369  SRR493370  \\\n",
       "ensgene                                                                  \n",
       "ENSG00000271254        188        211        222        148        150   \n",
       "ENSG00000277475          0          0          0          0          0   \n",
       "ENSG00000268674          0          0          0          0          0   \n",
       "\n",
       "                 SRR493371  \n",
       "ensgene                     \n",
       "ENSG00000271254        161  \n",
       "ENSG00000277475          0  \n",
       "ENSG00000268674          0  "
      ]
     },
     "execution_count": 90,
     "metadata": {},
     "output_type": "execute_result"
    }
   ],
   "source": [
    "gene_counts[-3:]"
   ]
  },
  {
   "cell_type": "code",
   "execution_count": 91,
   "metadata": {
    "collapsed": false
   },
   "outputs": [
    {
     "data": {
      "text/html": [
       "<div>\n",
       "<table border=\"1\" class=\"dataframe\">\n",
       "  <thead>\n",
       "    <tr style=\"text-align: right;\">\n",
       "      <th></th>\n",
       "      <th>SRR493366</th>\n",
       "      <th>SRR493367</th>\n",
       "      <th>SRR493368</th>\n",
       "      <th>SRR493369</th>\n",
       "      <th>SRR493370</th>\n",
       "      <th>SRR493371</th>\n",
       "    </tr>\n",
       "    <tr>\n",
       "      <th>ensgene</th>\n",
       "      <th></th>\n",
       "      <th></th>\n",
       "      <th></th>\n",
       "      <th></th>\n",
       "      <th></th>\n",
       "      <th></th>\n",
       "    </tr>\n",
       "  </thead>\n",
       "  <tbody>\n",
       "    <tr>\n",
       "      <th>ENSG00000187634</th>\n",
       "      <td>124</td>\n",
       "      <td>123</td>\n",
       "      <td>205</td>\n",
       "      <td>207</td>\n",
       "      <td>212</td>\n",
       "      <td>258</td>\n",
       "    </tr>\n",
       "    <tr>\n",
       "      <th>ENSG00000120334</th>\n",
       "      <td>124</td>\n",
       "      <td>213</td>\n",
       "      <td>216</td>\n",
       "      <td>124</td>\n",
       "      <td>126</td>\n",
       "      <td>154</td>\n",
       "    </tr>\n",
       "    <tr>\n",
       "      <th>ENSG00000182903</th>\n",
       "      <td>124</td>\n",
       "      <td>142</td>\n",
       "      <td>183</td>\n",
       "      <td>185</td>\n",
       "      <td>217</td>\n",
       "      <td>220</td>\n",
       "    </tr>\n",
       "    <tr>\n",
       "      <th>ENSG00000113638</th>\n",
       "      <td>124</td>\n",
       "      <td>139</td>\n",
       "      <td>177</td>\n",
       "      <td>152</td>\n",
       "      <td>192</td>\n",
       "      <td>223</td>\n",
       "    </tr>\n",
       "    <tr>\n",
       "      <th>ENSG00000253537</th>\n",
       "      <td>124</td>\n",
       "      <td>132</td>\n",
       "      <td>183</td>\n",
       "      <td>213</td>\n",
       "      <td>219</td>\n",
       "      <td>263</td>\n",
       "    </tr>\n",
       "    <tr>\n",
       "      <th>ENSG00000213654</th>\n",
       "      <td>124</td>\n",
       "      <td>130</td>\n",
       "      <td>178</td>\n",
       "      <td>139</td>\n",
       "      <td>154</td>\n",
       "      <td>172</td>\n",
       "    </tr>\n",
       "    <tr>\n",
       "      <th>ENSG00000026652</th>\n",
       "      <td>124</td>\n",
       "      <td>148</td>\n",
       "      <td>195</td>\n",
       "      <td>276</td>\n",
       "      <td>343</td>\n",
       "      <td>380</td>\n",
       "    </tr>\n",
       "    <tr>\n",
       "      <th>ENSG00000077063</th>\n",
       "      <td>124</td>\n",
       "      <td>162</td>\n",
       "      <td>179</td>\n",
       "      <td>249</td>\n",
       "      <td>235</td>\n",
       "      <td>284</td>\n",
       "    </tr>\n",
       "    <tr>\n",
       "      <th>ENSG00000105875</th>\n",
       "      <td>124</td>\n",
       "      <td>139</td>\n",
       "      <td>179</td>\n",
       "      <td>131</td>\n",
       "      <td>140</td>\n",
       "      <td>150</td>\n",
       "    </tr>\n",
       "    <tr>\n",
       "      <th>ENSG00000167393</th>\n",
       "      <td>124</td>\n",
       "      <td>140</td>\n",
       "      <td>165</td>\n",
       "      <td>150</td>\n",
       "      <td>136</td>\n",
       "      <td>160</td>\n",
       "    </tr>\n",
       "    <tr>\n",
       "      <th>ENSG00000184785</th>\n",
       "      <td>124</td>\n",
       "      <td>161</td>\n",
       "      <td>184</td>\n",
       "      <td>222</td>\n",
       "      <td>211</td>\n",
       "      <td>228</td>\n",
       "    </tr>\n",
       "    <tr>\n",
       "      <th>ENSG00000147509</th>\n",
       "      <td>124</td>\n",
       "      <td>148</td>\n",
       "      <td>206</td>\n",
       "      <td>131</td>\n",
       "      <td>147</td>\n",
       "      <td>196</td>\n",
       "    </tr>\n",
       "    <tr>\n",
       "      <th>ENSG00000172785</th>\n",
       "      <td>124</td>\n",
       "      <td>159</td>\n",
       "      <td>184</td>\n",
       "      <td>144</td>\n",
       "      <td>153</td>\n",
       "      <td>211</td>\n",
       "    </tr>\n",
       "    <tr>\n",
       "      <th>ENSG00000065665</th>\n",
       "      <td>124</td>\n",
       "      <td>146</td>\n",
       "      <td>169</td>\n",
       "      <td>123</td>\n",
       "      <td>144</td>\n",
       "      <td>185</td>\n",
       "    </tr>\n",
       "    <tr>\n",
       "      <th>ENSG00000123191</th>\n",
       "      <td>124</td>\n",
       "      <td>160</td>\n",
       "      <td>209</td>\n",
       "      <td>176</td>\n",
       "      <td>173</td>\n",
       "      <td>197</td>\n",
       "    </tr>\n",
       "    <tr>\n",
       "      <th>ENSG00000168781</th>\n",
       "      <td>124</td>\n",
       "      <td>126</td>\n",
       "      <td>170</td>\n",
       "      <td>62</td>\n",
       "      <td>89</td>\n",
       "      <td>83</td>\n",
       "    </tr>\n",
       "    <tr>\n",
       "      <th>ENSG00000167186</th>\n",
       "      <td>124</td>\n",
       "      <td>139</td>\n",
       "      <td>169</td>\n",
       "      <td>120</td>\n",
       "      <td>151</td>\n",
       "      <td>190</td>\n",
       "    </tr>\n",
       "    <tr>\n",
       "      <th>ENSG00000129667</th>\n",
       "      <td>124</td>\n",
       "      <td>140</td>\n",
       "      <td>192</td>\n",
       "      <td>85</td>\n",
       "      <td>84</td>\n",
       "      <td>108</td>\n",
       "    </tr>\n",
       "  </tbody>\n",
       "</table>\n",
       "</div>"
      ],
      "text/plain": [
       "                 SRR493366  SRR493367  SRR493368  SRR493369  SRR493370  \\\n",
       "ensgene                                                                  \n",
       "ENSG00000187634        124        123        205        207        212   \n",
       "ENSG00000120334        124        213        216        124        126   \n",
       "ENSG00000182903        124        142        183        185        217   \n",
       "ENSG00000113638        124        139        177        152        192   \n",
       "ENSG00000253537        124        132        183        213        219   \n",
       "ENSG00000213654        124        130        178        139        154   \n",
       "ENSG00000026652        124        148        195        276        343   \n",
       "ENSG00000077063        124        162        179        249        235   \n",
       "ENSG00000105875        124        139        179        131        140   \n",
       "ENSG00000167393        124        140        165        150        136   \n",
       "ENSG00000184785        124        161        184        222        211   \n",
       "ENSG00000147509        124        148        206        131        147   \n",
       "ENSG00000172785        124        159        184        144        153   \n",
       "ENSG00000065665        124        146        169        123        144   \n",
       "ENSG00000123191        124        160        209        176        173   \n",
       "ENSG00000168781        124        126        170         62         89   \n",
       "ENSG00000167186        124        139        169        120        151   \n",
       "ENSG00000129667        124        140        192         85         84   \n",
       "\n",
       "                 SRR493371  \n",
       "ensgene                     \n",
       "ENSG00000187634        258  \n",
       "ENSG00000120334        154  \n",
       "ENSG00000182903        220  \n",
       "ENSG00000113638        223  \n",
       "ENSG00000253537        263  \n",
       "ENSG00000213654        172  \n",
       "ENSG00000026652        380  \n",
       "ENSG00000077063        284  \n",
       "ENSG00000105875        150  \n",
       "ENSG00000167393        160  \n",
       "ENSG00000184785        228  \n",
       "ENSG00000147509        196  \n",
       "ENSG00000172785        211  \n",
       "ENSG00000065665        185  \n",
       "ENSG00000123191        197  \n",
       "ENSG00000168781         83  \n",
       "ENSG00000167186        190  \n",
       "ENSG00000129667        108  "
      ]
     },
     "execution_count": 91,
     "metadata": {},
     "output_type": "execute_result"
    }
   ],
   "source": [
    "awesome_gene_count = 124\n",
    "awesome_gene_rows = (gene_counts['SRR493366'] == awesome_gene_count)\n",
    "gene_counts[awesome_gene_rows]"
   ]
  },
  {
   "cell_type": "code",
   "execution_count": 93,
   "metadata": {
    "collapsed": false
   },
   "outputs": [
    {
     "data": {
      "text/html": [
       "<div>\n",
       "<table border=\"1\" class=\"dataframe\">\n",
       "  <thead>\n",
       "    <tr style=\"text-align: right;\">\n",
       "      <th></th>\n",
       "      <th>SRR493366</th>\n",
       "      <th>SRR493367</th>\n",
       "      <th>SRR493368</th>\n",
       "      <th>SRR493369</th>\n",
       "      <th>SRR493370</th>\n",
       "      <th>SRR493371</th>\n",
       "    </tr>\n",
       "    <tr>\n",
       "      <th>ensgene</th>\n",
       "      <th></th>\n",
       "      <th></th>\n",
       "      <th></th>\n",
       "      <th></th>\n",
       "      <th></th>\n",
       "      <th></th>\n",
       "    </tr>\n",
       "  </thead>\n",
       "  <tbody>\n",
       "    <tr>\n",
       "      <th>ENSG00000186092</th>\n",
       "      <td>NaN</td>\n",
       "      <td>NaN</td>\n",
       "      <td>NaN</td>\n",
       "      <td>NaN</td>\n",
       "      <td>NaN</td>\n",
       "      <td>NaN</td>\n",
       "    </tr>\n",
       "    <tr>\n",
       "      <th>ENSG00000279928</th>\n",
       "      <td>NaN</td>\n",
       "      <td>NaN</td>\n",
       "      <td>NaN</td>\n",
       "      <td>NaN</td>\n",
       "      <td>NaN</td>\n",
       "      <td>NaN</td>\n",
       "    </tr>\n",
       "    <tr>\n",
       "      <th>ENSG00000279457</th>\n",
       "      <td>23</td>\n",
       "      <td>28</td>\n",
       "      <td>29</td>\n",
       "      <td>29</td>\n",
       "      <td>28</td>\n",
       "      <td>46</td>\n",
       "    </tr>\n",
       "    <tr>\n",
       "      <th>ENSG00000278566</th>\n",
       "      <td>NaN</td>\n",
       "      <td>NaN</td>\n",
       "      <td>NaN</td>\n",
       "      <td>NaN</td>\n",
       "      <td>NaN</td>\n",
       "      <td>NaN</td>\n",
       "    </tr>\n",
       "    <tr>\n",
       "      <th>ENSG00000273547</th>\n",
       "      <td>NaN</td>\n",
       "      <td>NaN</td>\n",
       "      <td>NaN</td>\n",
       "      <td>NaN</td>\n",
       "      <td>NaN</td>\n",
       "      <td>NaN</td>\n",
       "    </tr>\n",
       "  </tbody>\n",
       "</table>\n",
       "</div>"
      ],
      "text/plain": [
       "                 SRR493366  SRR493367  SRR493368  SRR493369  SRR493370  \\\n",
       "ensgene                                                                  \n",
       "ENSG00000186092        NaN        NaN        NaN        NaN        NaN   \n",
       "ENSG00000279928        NaN        NaN        NaN        NaN        NaN   \n",
       "ENSG00000279457         23         28         29         29         28   \n",
       "ENSG00000278566        NaN        NaN        NaN        NaN        NaN   \n",
       "ENSG00000273547        NaN        NaN        NaN        NaN        NaN   \n",
       "\n",
       "                 SRR493371  \n",
       "ensgene                     \n",
       "ENSG00000186092        NaN  \n",
       "ENSG00000279928        NaN  \n",
       "ENSG00000279457         46  \n",
       "ENSG00000278566        NaN  \n",
       "ENSG00000273547        NaN  "
      ]
     },
     "execution_count": 93,
     "metadata": {},
     "output_type": "execute_result"
    }
   ],
   "source": [
    "gene_counts[gene_counts > 0].head()"
   ]
  },
  {
   "cell_type": "code",
   "execution_count": 94,
   "metadata": {
    "collapsed": false
   },
   "outputs": [
    {
     "data": {
      "text/plain": [
       "<matplotlib.axes._subplots.AxesSubplot at 0x11cf9b2e8>"
      ]
     },
     "execution_count": 94,
     "metadata": {},
     "output_type": "execute_result"
    },
    {
     "data": {
      "image/png": "[encoded data removed]",
      "text/plain": [
       "<matplotlib.figure.Figure at 0x117f6bcc0>"
      ]
     },
     "metadata": {},
     "output_type": "display_data"
    }
   ],
   "source": [
    "gene_counts[gene_counts > 0].plot()"
   ]
  },
  {
   "cell_type": "code",
   "execution_count": 95,
   "metadata": {
    "collapsed": false
   },
   "outputs": [
    {
     "data": {
      "text/plain": [
       "SRR493366    False\n",
       "SRR493367    False\n",
       "SRR493368    False\n",
       "SRR493369    False\n",
       "SRR493370    False\n",
       "SRR493371    False\n",
       "dtype: bool"
      ]
     },
     "execution_count": 95,
     "metadata": {},
     "output_type": "execute_result"
    }
   ],
   "source": [
    "(gene_counts > 0).all()"
   ]
  },
  {
   "cell_type": "code",
   "execution_count": 97,
   "metadata": {
    "collapsed": false
   },
   "outputs": [
    {
     "data": {
      "text/plain": [
       "ensgene\n",
       "ENSG00000186092    False\n",
       "ENSG00000279928    False\n",
       "ENSG00000279457     True\n",
       "ENSG00000278566    False\n",
       "ENSG00000273547    False\n",
       "ENSG00000187634     True\n",
       "ENSG00000188976     True\n",
       "ENSG00000187961     True\n",
       "ENSG00000187583     True\n",
       "ENSG00000187642     True\n",
       "ENSG00000188290     True\n",
       "ENSG00000187608     True\n",
       "ENSG00000188157     True\n",
       "ENSG00000237330    False\n",
       "ENSG00000131591     True\n",
       "ENSG00000162571    False\n",
       "ENSG00000186891    False\n",
       "ENSG00000186827    False\n",
       "ENSG00000078808     True\n",
       "ENSG00000176022     True\n",
       "ENSG00000184163     True\n",
       "ENSG00000160087     True\n",
       "ENSG00000162572     True\n",
       "ENSG00000131584     True\n",
       "ENSG00000169972     True\n",
       "ENSG00000127054     True\n",
       "ENSG00000224051     True\n",
       "ENSG00000169962     True\n",
       "ENSG00000107404     True\n",
       "ENSG00000162576     True\n",
       "                   ...  \n",
       "ENSG00000198727     True\n",
       "ENSG00000274175    False\n",
       "ENSG00000275869    False\n",
       "ENSG00000273554    False\n",
       "ENSG00000278782    False\n",
       "ENSG00000277761    False\n",
       "ENSG00000277836    False\n",
       "ENSG00000277666    False\n",
       "ENSG00000276760    False\n",
       "ENSG00000275249    False\n",
       "ENSG00000274792    False\n",
       "ENSG00000278704    False\n",
       "ENSG00000277400    False\n",
       "ENSG00000274847    False\n",
       "ENSG00000273496    False\n",
       "ENSG00000276256     True\n",
       "ENSG00000278198    False\n",
       "ENSG00000273748     True\n",
       "ENSG00000276017    False\n",
       "ENSG00000278817     True\n",
       "ENSG00000277196    False\n",
       "ENSG00000277630    False\n",
       "ENSG00000278384    False\n",
       "ENSG00000278633    False\n",
       "ENSG00000276345     True\n",
       "ENSG00000277856    False\n",
       "ENSG00000275063    False\n",
       "ENSG00000271254     True\n",
       "ENSG00000277475    False\n",
       "ENSG00000268674    False\n",
       "dtype: bool"
      ]
     },
     "execution_count": 97,
     "metadata": {},
     "output_type": "execute_result"
    }
   ],
   "source": [
    "(gene_counts > 0).all(axis=1) #to change to rows instead of columns"
   ]
  },
  {
   "cell_type": "code",
   "execution_count": 100,
   "metadata": {
    "collapsed": false
   },
   "outputs": [
    {
     "data": {
      "text/html": [
       "<div>\n",
       "<table border=\"1\" class=\"dataframe\">\n",
       "  <thead>\n",
       "    <tr style=\"text-align: right;\">\n",
       "      <th></th>\n",
       "      <th>SRR493366</th>\n",
       "      <th>SRR493367</th>\n",
       "      <th>SRR493368</th>\n",
       "      <th>SRR493369</th>\n",
       "      <th>SRR493370</th>\n",
       "      <th>SRR493371</th>\n",
       "    </tr>\n",
       "    <tr>\n",
       "      <th>ensgene</th>\n",
       "      <th></th>\n",
       "      <th></th>\n",
       "      <th></th>\n",
       "      <th></th>\n",
       "      <th></th>\n",
       "      <th></th>\n",
       "    </tr>\n",
       "  </thead>\n",
       "  <tbody>\n",
       "    <tr>\n",
       "      <th>ENSG00000279457</th>\n",
       "      <td>23</td>\n",
       "      <td>28</td>\n",
       "      <td>29</td>\n",
       "      <td>29</td>\n",
       "      <td>28</td>\n",
       "      <td>46</td>\n",
       "    </tr>\n",
       "    <tr>\n",
       "      <th>ENSG00000187634</th>\n",
       "      <td>124</td>\n",
       "      <td>123</td>\n",
       "      <td>205</td>\n",
       "      <td>207</td>\n",
       "      <td>212</td>\n",
       "      <td>258</td>\n",
       "    </tr>\n",
       "    <tr>\n",
       "      <th>ENSG00000188976</th>\n",
       "      <td>1637</td>\n",
       "      <td>1831</td>\n",
       "      <td>2383</td>\n",
       "      <td>1226</td>\n",
       "      <td>1326</td>\n",
       "      <td>1504</td>\n",
       "    </tr>\n",
       "    <tr>\n",
       "      <th>ENSG00000187961</th>\n",
       "      <td>120</td>\n",
       "      <td>153</td>\n",
       "      <td>180</td>\n",
       "      <td>236</td>\n",
       "      <td>255</td>\n",
       "      <td>357</td>\n",
       "    </tr>\n",
       "    <tr>\n",
       "      <th>ENSG00000187583</th>\n",
       "      <td>24</td>\n",
       "      <td>48</td>\n",
       "      <td>65</td>\n",
       "      <td>44</td>\n",
       "      <td>48</td>\n",
       "      <td>64</td>\n",
       "    </tr>\n",
       "  </tbody>\n",
       "</table>\n",
       "</div>"
      ],
      "text/plain": [
       "                 SRR493366  SRR493367  SRR493368  SRR493369  SRR493370  \\\n",
       "ensgene                                                                  \n",
       "ENSG00000279457         23         28         29         29         28   \n",
       "ENSG00000187634        124        123        205        207        212   \n",
       "ENSG00000188976       1637       1831       2383       1226       1326   \n",
       "ENSG00000187961        120        153        180        236        255   \n",
       "ENSG00000187583         24         48         65         44         48   \n",
       "\n",
       "                 SRR493371  \n",
       "ensgene                     \n",
       "ENSG00000279457         46  \n",
       "ENSG00000187634        258  \n",
       "ENSG00000188976       1504  \n",
       "ENSG00000187961        357  \n",
       "ENSG00000187583         64  "
      ]
     },
     "execution_count": 100,
     "metadata": {},
     "output_type": "execute_result"
    }
   ],
   "source": [
    "gene_counts[(gene_counts > 0 ).all(axis=1)].head()"
   ]
  },
  {
   "cell_type": "code",
   "execution_count": 101,
   "metadata": {
    "collapsed": true
   },
   "outputs": [],
   "source": [
    "def gene_count(url, gene_index_name='ensgene'):\n",
    "    \"\"\"\n",
    "    Returns a dataframe: that sets the index to the gene name, drops the length, and returns rows where all the data is greater than 0\n",
    "    \"\"\"\n",
    "    gene_data = pd.read_csv(url)\n",
    "    gene_data = gene_data.set_index(gene_index_name)\n",
    "    gene_counts = gene_data[[1,2,3,4,5,6]]\n",
    "    \n",
    "    return gene_counts[(gene_counts > 0 ).all(axis=1)]"
   ]
  },
  {
   "cell_type": "code",
   "execution_count": 103,
   "metadata": {
    "collapsed": false
   },
   "outputs": [
    {
     "data": {
      "text/html": [
       "<div>\n",
       "<table border=\"1\" class=\"dataframe\">\n",
       "  <thead>\n",
       "    <tr style=\"text-align: right;\">\n",
       "      <th></th>\n",
       "      <th>SRR493366</th>\n",
       "      <th>SRR493367</th>\n",
       "      <th>SRR493368</th>\n",
       "      <th>SRR493369</th>\n",
       "      <th>SRR493370</th>\n",
       "      <th>SRR493371</th>\n",
       "    </tr>\n",
       "    <tr>\n",
       "      <th>ensgene</th>\n",
       "      <th></th>\n",
       "      <th></th>\n",
       "      <th></th>\n",
       "      <th></th>\n",
       "      <th></th>\n",
       "      <th></th>\n",
       "    </tr>\n",
       "  </thead>\n",
       "  <tbody>\n",
       "    <tr>\n",
       "      <th>ENSG00000279457</th>\n",
       "      <td>23</td>\n",
       "      <td>28</td>\n",
       "      <td>29</td>\n",
       "      <td>29</td>\n",
       "      <td>28</td>\n",
       "      <td>46</td>\n",
       "    </tr>\n",
       "    <tr>\n",
       "      <th>ENSG00000187634</th>\n",
       "      <td>124</td>\n",
       "      <td>123</td>\n",
       "      <td>205</td>\n",
       "      <td>207</td>\n",
       "      <td>212</td>\n",
       "      <td>258</td>\n",
       "    </tr>\n",
       "    <tr>\n",
       "      <th>ENSG00000188976</th>\n",
       "      <td>1637</td>\n",
       "      <td>1831</td>\n",
       "      <td>2383</td>\n",
       "      <td>1226</td>\n",
       "      <td>1326</td>\n",
       "      <td>1504</td>\n",
       "    </tr>\n",
       "    <tr>\n",
       "      <th>ENSG00000187961</th>\n",
       "      <td>120</td>\n",
       "      <td>153</td>\n",
       "      <td>180</td>\n",
       "      <td>236</td>\n",
       "      <td>255</td>\n",
       "      <td>357</td>\n",
       "    </tr>\n",
       "    <tr>\n",
       "      <th>ENSG00000187583</th>\n",
       "      <td>24</td>\n",
       "      <td>48</td>\n",
       "      <td>65</td>\n",
       "      <td>44</td>\n",
       "      <td>48</td>\n",
       "      <td>64</td>\n",
       "    </tr>\n",
       "  </tbody>\n",
       "</table>\n",
       "</div>"
      ],
      "text/plain": [
       "                 SRR493366  SRR493367  SRR493368  SRR493369  SRR493370  \\\n",
       "ensgene                                                                  \n",
       "ENSG00000279457         23         28         29         29         28   \n",
       "ENSG00000187634        124        123        205        207        212   \n",
       "ENSG00000188976       1637       1831       2383       1226       1326   \n",
       "ENSG00000187961        120        153        180        236        255   \n",
       "ENSG00000187583         24         48         65         44         48   \n",
       "\n",
       "                 SRR493371  \n",
       "ensgene                     \n",
       "ENSG00000279457         46  \n",
       "ENSG00000187634        258  \n",
       "ENSG00000188976       1504  \n",
       "ENSG00000187961        357  \n",
       "ENSG00000187583         64  "
      ]
     },
     "execution_count": 103,
     "metadata": {},
     "output_type": "execute_result"
    }
   ],
   "source": [
    "gene_count_data = gene_count(remote_gene_count_file)\n",
    "gene_count_data.head()"
   ]
  },
  {
   "cell_type": "code",
   "execution_count": 104,
   "metadata": {
    "collapsed": false
   },
   "outputs": [
    {
     "data": {
      "text/plain": [
       "SRR493366    271.0\n",
       "SRR493367    308.5\n",
       "SRR493368    389.0\n",
       "SRR493369    307.0\n",
       "SRR493370    345.0\n",
       "SRR493371    399.5\n",
       "dtype: float64"
      ]
     },
     "execution_count": 104,
     "metadata": {},
     "output_type": "execute_result"
    }
   ],
   "source": [
    "gene_count_data.median()"
   ]
  },
  {
   "cell_type": "code",
   "execution_count": 105,
   "metadata": {
    "collapsed": true
   },
   "outputs": [],
   "source": [
    "scaled_data = gene_count_data / gene_count_data.median()"
   ]
  },
  {
   "cell_type": "code",
   "execution_count": 106,
   "metadata": {
    "collapsed": false
   },
   "outputs": [
    {
     "data": {
      "text/html": [
       "<div>\n",
       "<table border=\"1\" class=\"dataframe\">\n",
       "  <thead>\n",
       "    <tr style=\"text-align: right;\">\n",
       "      <th></th>\n",
       "      <th>SRR493366</th>\n",
       "      <th>SRR493367</th>\n",
       "      <th>SRR493368</th>\n",
       "      <th>SRR493369</th>\n",
       "      <th>SRR493370</th>\n",
       "      <th>SRR493371</th>\n",
       "    </tr>\n",
       "  </thead>\n",
       "  <tbody>\n",
       "    <tr>\n",
       "      <th>count</th>\n",
       "      <td>13282.000000</td>\n",
       "      <td>13282.000000</td>\n",
       "      <td>13282.000000</td>\n",
       "      <td>13282.000000</td>\n",
       "      <td>13282.000000</td>\n",
       "      <td>13282.000000</td>\n",
       "    </tr>\n",
       "    <tr>\n",
       "      <th>mean</th>\n",
       "      <td>3.554355</td>\n",
       "      <td>3.551851</td>\n",
       "      <td>3.563961</td>\n",
       "      <td>3.710371</td>\n",
       "      <td>3.691055</td>\n",
       "      <td>3.693723</td>\n",
       "    </tr>\n",
       "    <tr>\n",
       "      <th>std</th>\n",
       "      <td>20.794921</td>\n",
       "      <td>19.926912</td>\n",
       "      <td>20.396446</td>\n",
       "      <td>21.669514</td>\n",
       "      <td>21.910953</td>\n",
       "      <td>20.705640</td>\n",
       "    </tr>\n",
       "    <tr>\n",
       "      <th>min</th>\n",
       "      <td>0.003690</td>\n",
       "      <td>0.003241</td>\n",
       "      <td>0.002571</td>\n",
       "      <td>0.003257</td>\n",
       "      <td>0.002899</td>\n",
       "      <td>0.002503</td>\n",
       "    </tr>\n",
       "    <tr>\n",
       "      <th>25%</th>\n",
       "      <td>0.239852</td>\n",
       "      <td>0.233387</td>\n",
       "      <td>0.233933</td>\n",
       "      <td>0.228013</td>\n",
       "      <td>0.228986</td>\n",
       "      <td>0.227785</td>\n",
       "    </tr>\n",
       "    <tr>\n",
       "      <th>50%</th>\n",
       "      <td>1.000000</td>\n",
       "      <td>1.000000</td>\n",
       "      <td>1.000000</td>\n",
       "      <td>1.000000</td>\n",
       "      <td>1.000000</td>\n",
       "      <td>1.000000</td>\n",
       "    </tr>\n",
       "    <tr>\n",
       "      <th>75%</th>\n",
       "      <td>2.763838</td>\n",
       "      <td>2.781199</td>\n",
       "      <td>2.768638</td>\n",
       "      <td>2.957655</td>\n",
       "      <td>2.912319</td>\n",
       "      <td>2.976220</td>\n",
       "    </tr>\n",
       "    <tr>\n",
       "      <th>max</th>\n",
       "      <td>1439.025830</td>\n",
       "      <td>1379.260940</td>\n",
       "      <td>1393.794344</td>\n",
       "      <td>1340.201954</td>\n",
       "      <td>1380.924638</td>\n",
       "      <td>1268.392991</td>\n",
       "    </tr>\n",
       "  </tbody>\n",
       "</table>\n",
       "</div>"
      ],
      "text/plain": [
       "          SRR493366     SRR493367     SRR493368     SRR493369     SRR493370  \\\n",
       "count  13282.000000  13282.000000  13282.000000  13282.000000  13282.000000   \n",
       "mean       3.554355      3.551851      3.563961      3.710371      3.691055   \n",
       "std       20.794921     19.926912     20.396446     21.669514     21.910953   \n",
       "min        0.003690      0.003241      0.002571      0.003257      0.002899   \n",
       "25%        0.239852      0.233387      0.233933      0.228013      0.228986   \n",
       "50%        1.000000      1.000000      1.000000      1.000000      1.000000   \n",
       "75%        2.763838      2.781199      2.768638      2.957655      2.912319   \n",
       "max     1439.025830   1379.260940   1393.794344   1340.201954   1380.924638   \n",
       "\n",
       "          SRR493371  \n",
       "count  13282.000000  \n",
       "mean       3.693723  \n",
       "std       20.705640  \n",
       "min        0.002503  \n",
       "25%        0.227785  \n",
       "50%        1.000000  \n",
       "75%        2.976220  \n",
       "max     1268.392991  "
      ]
     },
     "execution_count": 106,
     "metadata": {},
     "output_type": "execute_result"
    }
   ],
   "source": [
    "scaled_data.describe()"
   ]
  },
  {
   "cell_type": "code",
   "execution_count": 107,
   "metadata": {
    "collapsed": false
   },
   "outputs": [
    {
     "data": {
      "text/plain": [
       "SRR493366    3.554355\n",
       "SRR493367    3.551851\n",
       "SRR493368    3.563961\n",
       "SRR493369    3.710371\n",
       "SRR493370    3.691055\n",
       "SRR493371    3.693723\n",
       "dtype: float64"
      ]
     },
     "execution_count": 107,
     "metadata": {},
     "output_type": "execute_result"
    }
   ],
   "source": [
    "scaled_data.mean()"
   ]
  },
  {
   "cell_type": "code",
   "execution_count": 109,
   "metadata": {
    "collapsed": false
   },
   "outputs": [
    {
     "data": {
      "text/plain": [
       "ensgene\n",
       "ENSG00000279457      0.090158\n",
       "ENSG00000187634      0.552971\n",
       "ENSG00000188976      4.950566\n",
       "ENSG00000187961      0.633826\n",
       "ENSG00000187583      0.142317\n",
       "ENSG00000187642      0.036182\n",
       "ENSG00000188290      0.331357\n",
       "ENSG00000187608      1.057328\n",
       "ENSG00000188157     27.542937\n",
       "ENSG00000131591      0.471625\n",
       "ENSG00000078808     13.880046\n",
       "ENSG00000176022      2.725542\n",
       "ENSG00000184163      0.013645\n",
       "ENSG00000160087      3.701260\n",
       "ENSG00000162572      0.096107\n",
       "ENSG00000131584      3.223440\n",
       "ENSG00000169972      0.684803\n",
       "ENSG00000127054      2.772524\n",
       "ENSG00000224051      0.901106\n",
       "ENSG00000169962      0.017593\n",
       "ENSG00000107404      2.998271\n",
       "ENSG00000162576     16.420161\n",
       "ENSG00000175756      3.218979\n",
       "ENSG00000221978      4.112771\n",
       "ENSG00000242485      2.002372\n",
       "ENSG00000179403      0.328210\n",
       "ENSG00000160072      1.269961\n",
       "ENSG00000197785      2.125360\n",
       "ENSG00000205090      0.122199\n",
       "ENSG00000160075      5.601637\n",
       "                      ...    \n",
       "ENSG00000183570      0.238115\n",
       "ENSG00000142156    154.303651\n",
       "ENSG00000142173    153.367989\n",
       "ENSG00000160282      0.016825\n",
       "ENSG00000160284      0.512402\n",
       "ENSG00000160285      4.639747\n",
       "ENSG00000160294      5.308941\n",
       "ENSG00000182362      0.358522\n",
       "ENSG00000160298      0.157904\n",
       "ENSG00000160299      2.166336\n",
       "ENSG00000160305      1.880919\n",
       "ENSG00000160310      3.836179\n",
       "ENSG00000198888     73.061112\n",
       "ENSG00000198763     68.638828\n",
       "ENSG00000198804    446.230060\n",
       "ENSG00000198712    198.750527\n",
       "ENSG00000228253     25.500686\n",
       "ENSG00000198899    153.975795\n",
       "ENSG00000198938    197.302745\n",
       "ENSG00000198840     16.371866\n",
       "ENSG00000212907     35.210302\n",
       "ENSG00000198886    300.940581\n",
       "ENSG00000198786    144.432152\n",
       "ENSG00000198695     46.257580\n",
       "ENSG00000198727    102.106828\n",
       "ENSG00000276256      0.278801\n",
       "ENSG00000273748      0.106694\n",
       "ENSG00000278817      0.007277\n",
       "ENSG00000276345      0.221229\n",
       "ENSG00000271254      0.544708\n",
       "dtype: float64"
      ]
     },
     "execution_count": 109,
     "metadata": {},
     "output_type": "execute_result"
    }
   ],
   "source": [
    "scaled_data.mean(axis=1)"
   ]
  },
  {
   "cell_type": "code",
   "execution_count": 110,
   "metadata": {
    "collapsed": true
   },
   "outputs": [],
   "source": [
    "scaled_data['A'] = scaled_data.mean(axis=1)"
   ]
  },
  {
   "cell_type": "code",
   "execution_count": 111,
   "metadata": {
    "collapsed": false
   },
   "outputs": [
    {
     "data": {
      "text/html": [
       "<div>\n",
       "<table border=\"1\" class=\"dataframe\">\n",
       "  <thead>\n",
       "    <tr style=\"text-align: right;\">\n",
       "      <th></th>\n",
       "      <th>SRR493366</th>\n",
       "      <th>SRR493367</th>\n",
       "      <th>SRR493368</th>\n",
       "      <th>SRR493369</th>\n",
       "      <th>SRR493370</th>\n",
       "      <th>SRR493371</th>\n",
       "      <th>A</th>\n",
       "    </tr>\n",
       "    <tr>\n",
       "      <th>ensgene</th>\n",
       "      <th></th>\n",
       "      <th></th>\n",
       "      <th></th>\n",
       "      <th></th>\n",
       "      <th></th>\n",
       "      <th></th>\n",
       "      <th></th>\n",
       "    </tr>\n",
       "  </thead>\n",
       "  <tbody>\n",
       "    <tr>\n",
       "      <th>ENSG00000279457</th>\n",
       "      <td>0.084871</td>\n",
       "      <td>0.090762</td>\n",
       "      <td>0.074550</td>\n",
       "      <td>0.094463</td>\n",
       "      <td>0.081159</td>\n",
       "      <td>0.115144</td>\n",
       "      <td>0.090158</td>\n",
       "    </tr>\n",
       "    <tr>\n",
       "      <th>ENSG00000187634</th>\n",
       "      <td>0.457565</td>\n",
       "      <td>0.398703</td>\n",
       "      <td>0.526992</td>\n",
       "      <td>0.674267</td>\n",
       "      <td>0.614493</td>\n",
       "      <td>0.645807</td>\n",
       "      <td>0.552971</td>\n",
       "    </tr>\n",
       "    <tr>\n",
       "      <th>ENSG00000188976</th>\n",
       "      <td>6.040590</td>\n",
       "      <td>5.935170</td>\n",
       "      <td>6.125964</td>\n",
       "      <td>3.993485</td>\n",
       "      <td>3.843478</td>\n",
       "      <td>3.764706</td>\n",
       "      <td>4.950566</td>\n",
       "    </tr>\n",
       "    <tr>\n",
       "      <th>ENSG00000187961</th>\n",
       "      <td>0.442804</td>\n",
       "      <td>0.495948</td>\n",
       "      <td>0.462725</td>\n",
       "      <td>0.768730</td>\n",
       "      <td>0.739130</td>\n",
       "      <td>0.893617</td>\n",
       "      <td>0.633826</td>\n",
       "    </tr>\n",
       "    <tr>\n",
       "      <th>ENSG00000187583</th>\n",
       "      <td>0.088561</td>\n",
       "      <td>0.155592</td>\n",
       "      <td>0.167095</td>\n",
       "      <td>0.143322</td>\n",
       "      <td>0.139130</td>\n",
       "      <td>0.160200</td>\n",
       "      <td>0.142317</td>\n",
       "    </tr>\n",
       "  </tbody>\n",
       "</table>\n",
       "</div>"
      ],
      "text/plain": [
       "                 SRR493366  SRR493367  SRR493368  SRR493369  SRR493370  \\\n",
       "ensgene                                                                  \n",
       "ENSG00000279457   0.084871   0.090762   0.074550   0.094463   0.081159   \n",
       "ENSG00000187634   0.457565   0.398703   0.526992   0.674267   0.614493   \n",
       "ENSG00000188976   6.040590   5.935170   6.125964   3.993485   3.843478   \n",
       "ENSG00000187961   0.442804   0.495948   0.462725   0.768730   0.739130   \n",
       "ENSG00000187583   0.088561   0.155592   0.167095   0.143322   0.139130   \n",
       "\n",
       "                 SRR493371         A  \n",
       "ensgene                               \n",
       "ENSG00000279457   0.115144  0.090158  \n",
       "ENSG00000187634   0.645807  0.552971  \n",
       "ENSG00000188976   3.764706  4.950566  \n",
       "ENSG00000187961   0.893617  0.633826  \n",
       "ENSG00000187583   0.160200  0.142317  "
      ]
     },
     "execution_count": 111,
     "metadata": {},
     "output_type": "execute_result"
    }
   ],
   "source": [
    "scaled_data.head()"
   ]
  },
  {
   "cell_type": "code",
   "execution_count": 112,
   "metadata": {
    "collapsed": true
   },
   "outputs": [],
   "source": [
    "scaled_data['M'] = scaled_data[[3,4,5]].mean(axis=1)/scaled_data[[0,1,2]].mean(axis=1)"
   ]
  },
  {
   "cell_type": "code",
   "execution_count": 113,
   "metadata": {
    "collapsed": false
   },
   "outputs": [
    {
     "data": {
      "text/html": [
       "<div>\n",
       "<table border=\"1\" class=\"dataframe\">\n",
       "  <thead>\n",
       "    <tr style=\"text-align: right;\">\n",
       "      <th></th>\n",
       "      <th>SRR493366</th>\n",
       "      <th>SRR493367</th>\n",
       "      <th>SRR493368</th>\n",
       "      <th>SRR493369</th>\n",
       "      <th>SRR493370</th>\n",
       "      <th>SRR493371</th>\n",
       "      <th>A</th>\n",
       "      <th>M</th>\n",
       "    </tr>\n",
       "    <tr>\n",
       "      <th>ensgene</th>\n",
       "      <th></th>\n",
       "      <th></th>\n",
       "      <th></th>\n",
       "      <th></th>\n",
       "      <th></th>\n",
       "      <th></th>\n",
       "      <th></th>\n",
       "      <th></th>\n",
       "    </tr>\n",
       "  </thead>\n",
       "  <tbody>\n",
       "    <tr>\n",
       "      <th>ENSG00000279457</th>\n",
       "      <td>0.084871</td>\n",
       "      <td>0.090762</td>\n",
       "      <td>0.074550</td>\n",
       "      <td>0.094463</td>\n",
       "      <td>0.081159</td>\n",
       "      <td>0.115144</td>\n",
       "      <td>0.090158</td>\n",
       "      <td>1.162214</td>\n",
       "    </tr>\n",
       "    <tr>\n",
       "      <th>ENSG00000187634</th>\n",
       "      <td>0.457565</td>\n",
       "      <td>0.398703</td>\n",
       "      <td>0.526992</td>\n",
       "      <td>0.674267</td>\n",
       "      <td>0.614493</td>\n",
       "      <td>0.645807</td>\n",
       "      <td>0.552971</td>\n",
       "      <td>1.398556</td>\n",
       "    </tr>\n",
       "    <tr>\n",
       "      <th>ENSG00000188976</th>\n",
       "      <td>6.040590</td>\n",
       "      <td>5.935170</td>\n",
       "      <td>6.125964</td>\n",
       "      <td>3.993485</td>\n",
       "      <td>3.843478</td>\n",
       "      <td>3.764706</td>\n",
       "      <td>4.950566</td>\n",
       "      <td>0.640915</td>\n",
       "    </tr>\n",
       "    <tr>\n",
       "      <th>ENSG00000187961</th>\n",
       "      <td>0.442804</td>\n",
       "      <td>0.495948</td>\n",
       "      <td>0.462725</td>\n",
       "      <td>0.768730</td>\n",
       "      <td>0.739130</td>\n",
       "      <td>0.893617</td>\n",
       "      <td>0.633826</td>\n",
       "      <td>1.713532</td>\n",
       "    </tr>\n",
       "    <tr>\n",
       "      <th>ENSG00000187583</th>\n",
       "      <td>0.088561</td>\n",
       "      <td>0.155592</td>\n",
       "      <td>0.167095</td>\n",
       "      <td>0.143322</td>\n",
       "      <td>0.139130</td>\n",
       "      <td>0.160200</td>\n",
       "      <td>0.142317</td>\n",
       "      <td>1.076367</td>\n",
       "    </tr>\n",
       "  </tbody>\n",
       "</table>\n",
       "</div>"
      ],
      "text/plain": [
       "                 SRR493366  SRR493367  SRR493368  SRR493369  SRR493370  \\\n",
       "ensgene                                                                  \n",
       "ENSG00000279457   0.084871   0.090762   0.074550   0.094463   0.081159   \n",
       "ENSG00000187634   0.457565   0.398703   0.526992   0.674267   0.614493   \n",
       "ENSG00000188976   6.040590   5.935170   6.125964   3.993485   3.843478   \n",
       "ENSG00000187961   0.442804   0.495948   0.462725   0.768730   0.739130   \n",
       "ENSG00000187583   0.088561   0.155592   0.167095   0.143322   0.139130   \n",
       "\n",
       "                 SRR493371         A         M  \n",
       "ensgene                                         \n",
       "ENSG00000279457   0.115144  0.090158  1.162214  \n",
       "ENSG00000187634   0.645807  0.552971  1.398556  \n",
       "ENSG00000188976   3.764706  4.950566  0.640915  \n",
       "ENSG00000187961   0.893617  0.633826  1.713532  \n",
       "ENSG00000187583   0.160200  0.142317  1.076367  "
      ]
     },
     "execution_count": 113,
     "metadata": {},
     "output_type": "execute_result"
    }
   ],
   "source": [
    "scaled_data.head()"
   ]
  },
  {
   "cell_type": "code",
   "execution_count": 114,
   "metadata": {
    "collapsed": false
   },
   "outputs": [
    {
     "data": {
      "text/plain": [
       "<matplotlib.collections.PathCollection at 0x11e1f3048>"
      ]
     },
     "execution_count": 114,
     "metadata": {},
     "output_type": "execute_result"
    },
    {
     "data": {
      "image/png": "[encoded data removed]",
      "text/plain": [
       "<matplotlib.figure.Figure at 0x11d763278>"
      ]
     },
     "metadata": {},
     "output_type": "display_data"
    }
   ],
   "source": [
    "plt.scatter(np.log2(scaled_data['A']),np.log2(scaled_data['M']))"
   ]
  },
  {
   "cell_type": "code",
   "execution_count": null,
   "metadata": {
    "collapsed": true
   },
   "outputs": [],
   "source": []
  }
 ],
 "metadata": {
  "kernelspec": {
   "display_name": "Python 3",
   "language": "python",
   "name": "python3"
  },
  "language_info": {
   "codemirror_mode": {
    "name": "ipython",
    "version": 3
   },
   "file_extension": ".py",
   "mimetype": "text/x-python",
   "name": "python",
   "nbconvert_exporter": "python",
   "pygments_lexer": "ipython3",
   "version": "3.5.1"
  }
 },
 "nbformat": 4,
 "nbformat_minor": 0
}
